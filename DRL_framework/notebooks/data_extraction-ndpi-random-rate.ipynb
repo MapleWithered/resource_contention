{
 "cells": [
  {
   "cell_type": "code",
   "execution_count": 32,
   "id": "9939eb58",
   "metadata": {},
   "outputs": [],
   "source": [
    "import pandas as pd\n",
    "import os, re\n",
    "import csv\n",
    "import numpy as np"
   ]
  },
  {
   "cell_type": "code",
   "execution_count": 33,
   "id": "c2b78803",
   "metadata": {},
   "outputs": [],
   "source": [
    "import matplotlib.pyplot as plt\n",
    "%matplotlib inline\n",
    "\n",
    "plt.rc('font', family='serif')\n",
    "plt.rcParams.update({'font.size': 11})\n",
    "\n",
    "plt.rcParams['figure.dpi'] = 200\n",
    "plt.rcParams['savefig.dpi'] = 300"
   ]
  },
  {
   "cell_type": "code",
   "execution_count": 34,
   "id": "fa7dad89",
   "metadata": {},
   "outputs": [],
   "source": [
    "# Metadata for specific SFC configurations\n",
    "exp_ls = \"2000s\"\n"
   ]
  },
  {
   "cell_type": "code",
   "execution_count": 35,
   "id": "46d1626e",
   "metadata": {},
   "outputs": [],
   "source": [
    "def print_headers(exp_type, exp_num, file):\n",
    "    file_path = os.path.join(\"..\\\\ndpi-stats-random\", exp_type, exp_num, file)\n",
    "\n",
    "    with open(file_path, newline='') as csvfile:\n",
    "        reader = csv.reader(csvfile)\n",
    "        headers = next(reader)  \n",
    "        print(\"header：\", headers)\n",
    "    return headers\n",
    "\n",
    "\n",
    "#print_headers(\"fixed_rate\", exp_ls, \"bridge-pcm-new.csv\")\n"
   ]
  },
  {
   "cell_type": "code",
   "execution_count": 36,
   "id": "ca5059ab",
   "metadata": {},
   "outputs": [],
   "source": [
    "def parse_seq(exp_type, exp_num, file, index=5):\n",
    "    \"Parse sequential data, specialized for the TX/RX/Latency experiments\"\n",
    "    tmp = []\n",
    "    \n",
    "    if file.startswith(\"latency.csv\"):\n",
    "        with open(os.path.join(\"ndpi-stats-random\", exp_type, exp_num, file)) as f:\n",
    "            lines = f.readlines()[4:] if exp_type == \"ndpi-stats-random\" else f.readlines()\n",
    "            for i in range(len(lines)):\n",
    "                try:\n",
    "                    value = float(lines[i].strip()) / 1000\n",
    "                except ValueError:\n",
    "                    value= np.nan\n",
    "                tmp.append(value)\n",
    "    else:\n",
    "        with open(os.path.join(\"..\\\\ndpi-stats-random\", exp_type, exp_num, file)) as f:\n",
    "            next(f)\n",
    "            for l in f:\n",
    "                try:\n",
    "                    value = float(l.strip().split(\",\")[index])\n",
    "                except ValueError:\n",
    "                    value = np.nan\n",
    "                tmp.append(value)\n",
    "                \n",
    "    return tmp"
   ]
  },
  {
   "cell_type": "code",
   "execution_count": 37,
   "id": "e0838e55",
   "metadata": {},
   "outputs": [],
   "source": [
    "def parse_reg(exp_type, exp_num, file, stat_name):\n",
    "    stat = []\n",
    "    file_path = os.path.join(\"..\\\\ndpi-stats-random\", exp_type, exp_num, file)\n",
    "\n",
    "    with open(file_path, newline='') as csvfile:\n",
    "        reader = csv.reader(csvfile)\n",
    "        headers = next(reader)\n",
    "        try:\n",
    "            index = headers.index(stat_name)\n",
    "        except ValueError:\n",
    "            print(f\"Column {stat_name} not found\")\n",
    "            return stat\n",
    "        for row in reader:\n",
    "            if len(row) <= index: \n",
    "                continue  \n",
    "\n",
    "            raw_value = row[index]\n",
    "            try:\n",
    "                value = float(raw_value)\n",
    "            except ValueError:\n",
    "                value = raw_value\n",
    "            stat.append(value)\n",
    "\n",
    "\n",
    "    return stat"
   ]
  },
  {
   "cell_type": "code",
   "execution_count": 38,
   "id": "47f82e17",
   "metadata": {},
   "outputs": [
    {
     "data": {
      "text/plain": [
       "2013"
      ]
     },
     "execution_count": 38,
     "metadata": {},
     "output_type": "execute_result"
    }
   ],
   "source": [
    "tx_stats = parse_seq(\"ndpi-stats-random\", exp_ls,  \"tx_stats.csv\")\n",
    "len(tx_stats)"
   ]
  },
  {
   "cell_type": "code",
   "execution_count": 39,
   "id": "49f4250d",
   "metadata": {},
   "outputs": [
    {
     "data": {
      "text/plain": [
       "2013"
      ]
     },
     "execution_count": 39,
     "metadata": {},
     "output_type": "execute_result"
    }
   ],
   "source": [
    "rx_stats = parse_seq(\"ndpi-stats-random\", exp_ls,  \"rx_stats.csv\")\n",
    "len(rx_stats)"
   ]
  },
  {
   "cell_type": "code",
   "execution_count": 40,
   "id": "2069d7f7",
   "metadata": {},
   "outputs": [
    {
     "name": "stdout",
     "output_type": "stream",
     "text": [
      "2010\n"
     ]
    }
   ],
   "source": [
    "bridge_L3MISS = parse_reg(\"ndpi-stats-random\", exp_ls,  \"ndpi_stats-pcm_new.csv\", \"Socket 0-L3HIT\")\n",
    "print(len(bridge_L3MISS))"
   ]
  },
  {
   "cell_type": "code",
   "execution_count": 41,
   "id": "486f96ae",
   "metadata": {},
   "outputs": [
    {
     "name": "stdout",
     "output_type": "stream",
     "text": [
      "header： ['System-Date', 'System-Time', 'Socket 0-EXEC', 'Socket 0-IPC', 'Socket 0-FREQ', 'Socket 0-AFREQ', 'Socket 0-L3MISS', 'Socket 0-L2MISS', 'Socket 0-L3HIT', 'Socket 0-L2HIT', 'Socket 0-L3MPI', 'Socket 0-L2MPI', 'Socket 0-L3OCC', 'Socket 0-READ', 'Socket 0-WRITE', 'Socket 0-LOCAL', 'Socket 0-TEMP', 'Socket 0-INST', 'Socket 0-ACYC', 'Socket 0-TIME(ticks)', 'Socket 0-PhysIPC', 'Socket 0-PhysIPC%', 'Socket 0-INSTnom', 'Socket 0-INSTnom%', 'Socket 1-EXEC', 'Socket 1-IPC', 'Socket 1-FREQ', 'Socket 1-AFREQ', 'Socket 1-L3MISS', 'Socket 1-L2MISS', 'Socket 1-L3HIT', 'Socket 1-L2HIT', 'Socket 1-L3MPI', 'Socket 1-L2MPI', 'Socket 1-L3OCC', 'Socket 1-READ', 'Socket 1-WRITE', 'Socket 1-LOCAL', 'Socket 1-TEMP', 'Socket 1-INST', 'Socket 1-ACYC', 'Socket 1-TIME(ticks)', 'Socket 1-PhysIPC', 'Socket 1-PhysIPC%', 'Socket 1-INSTnom', 'Socket 1-INSTnom%', 'SKT0 Core C-State-C0res%', 'SKT0 Core C-State-C1res%', 'SKT0 Core C-State-C3res%', 'SKT0 Core C-State-C6res%', 'SKT0 Core C-State-C7res%', 'SKT0 Package C-State-C0res%', 'SKT0 Package C-State-C2res%', 'SKT0 Package C-State-C3res%', 'SKT0 Package C-State-C6res%', 'SKT0 Package C-State-C7res%', 'SKT1 Core C-State-C0res%', 'SKT1 Core C-State-C1res%', 'SKT1 Core C-State-C3res%', 'SKT1 Core C-State-C6res%', 'SKT1 Core C-State-C7res%', 'SKT1 Package C-State-C0res%', 'SKT1 Package C-State-C2res%', 'SKT1 Package C-State-C3res%', 'SKT1 Package C-State-C6res%', 'SKT1 Package C-State-C7res%', 'Proc Energy (Joules)-SKT0', 'Proc Energy (Joules)-SKT1', 'DRAM Energy (Joules)-SKT0', 'DRAM Energy (Joules)-SKT1', 'LLCRDMISSLAT (ns)-SKT0', 'LLCRDMISSLAT (ns)-SKT1', 'UncFREQ (Ghz)-SKT0', 'UncFREQ (Ghz)-SKT1', 'Core3 (Socket 0)-EXEC', 'Core3 (Socket 0)-IPC', 'Core3 (Socket 0)-FREQ', 'Core3 (Socket 0)-AFREQ', 'Core3 (Socket 0)-L3MISS', 'Core3 (Socket 0)-L2MISS', 'Core3 (Socket 0)-L3HIT', 'Core3 (Socket 0)-L2HIT', 'Core3 (Socket 0)-L3MPI', 'Core3 (Socket 0)-L2MPI', 'Core3 (Socket 0)-L3OCC', 'Core3 (Socket 0)-C0res%', 'Core3 (Socket 0)-C1res%', 'Core3 (Socket 0)-C3res%', 'Core3 (Socket 0)-C6res%', 'Core3 (Socket 0)-C7res%', 'Core3 (Socket 0)-TEMP', 'Core3 (Socket 0)-INST', 'Core3 (Socket 0)-ACYC', 'Core3 (Socket 0)-TIME(ticks)', 'Core3 (Socket 0)-PhysIPC', 'Core3 (Socket 0)-PhysIPC%', 'Core3 (Socket 0)-INSTnom', 'Core3 (Socket 0)-INSTnom%', '-']\n"
     ]
    }
   ],
   "source": [
    "features = print_headers(\"ndpi-stats-random\", exp_ls,  \"ndpi_stats-pcm_new.csv\")"
   ]
  },
  {
   "cell_type": "code",
   "execution_count": 42,
   "id": "840e88ca",
   "metadata": {},
   "outputs": [
    {
     "name": "stdout",
     "output_type": "stream",
     "text": [
      "header： ['skt-0_PCIRdCur-total', 'skt-0_RFO-total', 'skt-0_CRd-total', 'skt-0_DRd-total', 'skt-0_ItoM-total', 'skt-0_PRd-total', 'skt-0_WiL-total', 'skt-0_PCIRdCur-miss', 'skt-0_RFO-miss', 'skt-0_CRd-miss', 'skt-0_DRd-miss', 'skt-0_ItoM-miss', 'skt-0_PRd-miss', 'skt-0_WiL-miss', 'skt-0_PCIRdCur-hit', 'skt-0_RFO-hit', 'skt-0_CRd-hit', 'skt-0_DRd-hit', 'skt-0_ItoM-hit', 'skt-0_PRd-hit', 'skt-0_WiL-hit', 'skt-1_PCIRdCur-total', 'skt-1_RFO-total', 'skt-1_CRd-total', 'skt-1_DRd-total', 'skt-1_ItoM-total', 'skt-1_PRd-total', 'skt-1_WiL-total', 'skt-1_PCIRdCur-miss', 'skt-1_RFO-miss', 'skt-1_CRd-miss', 'skt-1_DRd-miss', 'skt-1_ItoM-miss', 'skt-1_PRd-miss', 'skt-1_WiL-miss', 'skt-1_PCIRdCur-hit', 'skt-1_RFO-hit', 'skt-1_CRd-hit', 'skt-1_DRd-hit', 'skt-1_ItoM-hit', 'skt-1_PRd-hit', 'skt-1_WiL-hit']\n"
     ]
    }
   ],
   "source": [
    "features_pcie = print_headers(\"ndpi-stats-random\", exp_ls,   \"pcm-pcie_new.csv\")"
   ]
  },
  {
   "cell_type": "code",
   "execution_count": 43,
   "id": "0b1fe281",
   "metadata": {},
   "outputs": [
    {
     "name": "stdout",
     "output_type": "stream",
     "text": [
      "header： ['SKT0-Ch0Read', 'SKT0-Ch0Write', 'SKT0-Ch1Read', 'SKT0-Ch1Write', 'SKT0-Mem Read (MB/s)', 'SKT0-Mem Write (MB/s)', 'SKT0-P. Write (T/s)', 'SKT0-Memory (MB/s)', 'SKT1-Ch0Read', 'SKT1-Ch0Write', 'SKT1-Ch1Read', 'SKT1-Ch1Write', 'SKT1-Mem Read (MB/s)', 'SKT1-Mem Write (MB/s)', 'SKT1-P. Write (T/s)', 'SKT1-Memory (MB/s)', 'System-Read', 'System-Write', 'System-Memory']\n"
     ]
    }
   ],
   "source": [
    "features_memory = print_headers(\"ndpi-stats-random\", exp_ls, \"pcm-memory_new.csv\")"
   ]
  },
  {
   "cell_type": "code",
   "execution_count": 44,
   "id": "07fbdc9d",
   "metadata": {},
   "outputs": [
    {
     "name": "stdout",
     "output_type": "stream",
     "text": [
      "header： ['cos_way', 'binary', 'ddio_ways']\n"
     ]
    }
   ],
   "source": [
    "features_ddio= print_headers(\"ndpi-stats-random\", exp_ls, \"ddio_ways_new.csv\")"
   ]
  },
  {
   "cell_type": "code",
   "execution_count": 45,
   "id": "2a4c50c4",
   "metadata": {},
   "outputs": [
    {
     "name": "stdout",
     "output_type": "stream",
     "text": [
      "header： ['latency']\n"
     ]
    }
   ],
   "source": [
    "features_latency= print_headers(\"ndpi-stats-random\", exp_ls, \"latency_new.csv\")"
   ]
  },
  {
   "cell_type": "code",
   "execution_count": 46,
   "id": "9ef2ac1b",
   "metadata": {},
   "outputs": [],
   "source": [
    "features_pktsize=  [ 'PacketRate', 'Mbit', 'MbitWithFraming', 'TotalPackets', 'TotalBytes']\n",
    "#print_headers(\"ndpi-stats-random\", exp_ls, \"tx_stats.csv\")"
   ]
  },
  {
   "cell_type": "code",
   "execution_count": 47,
   "id": "ad841f6e",
   "metadata": {},
   "outputs": [],
   "source": [
    "Infos=[\"ndpi_stats-pcm_new.csv\"]\n",
    "Infos_pcie = [\"pcm-pcie_new.csv\"]\n",
    "Infos_memory =[\"pcm-memory_new.csv\"]\n",
    "Infos_ddioways = [\"ddio_ways_new.csv\"]\n",
    "Infos_latency = [\"latency_new.csv\"]\n",
    "Infos_pktsize = [\"tx_stats.csv\"]\n",
    "def make_df():\n",
    "    tmp = []\n",
    "    dic = dict()\n",
    "    tx_stats = parse_seq(\"ndpi-stats-random\", exp_ls, \"tx_stats.csv\")\n",
    "    rx_stats = parse_seq(\"ndpi-stats-random\", exp_ls, \"rx_stats.csv\")\n",
    "\n",
    "    seq_length = min(len(tx_stats), len(rx_stats),\n",
    "                     len(parse_reg(\"ndpi-stats-random\", exp_ls, \"ndpi_stats-pcm_new.csv\", 'System-Date')), \n",
    "                     len(parse_reg(\"ndpi-stats-random\", exp_ls, \"pcm-pcie_new.csv\", 'skt-0_PCIRdCur-total')),\n",
    "                    len(parse_reg(\"ndpi-stats-random\", exp_ls, \"ddio_ways_new.csv\", 'ddio_ways')),)\n",
    "    dic[\"input_rate\"] = tx_stats[:seq_length]\n",
    "    dic[\"output_rate\"] = rx_stats[:seq_length]\n",
    "    for f in features:\n",
    "        for v in Infos:\n",
    "            tmp =parse_reg(\"ndpi-stats-random\", exp_ls, \"ndpi_stats-pcm_new.csv\", f)\n",
    "            tmp = tmp[:seq_length]\n",
    "            if len(tmp) < seq_length:\n",
    "                tmp = np.pad(tmp, (0, seq_length - len(tmp)), mode='constant')\n",
    "            dic[v.split(\".\")[0] + \"_\" + f.replace(\",\", \"\")] = tmp\n",
    "            \n",
    "    for f in features_pcie:\n",
    "        for v in Infos_pcie:\n",
    "            tmp =parse_reg(\"ndpi-stats-random\", exp_ls, \"pcm-pcie_new.csv\", f)\n",
    "            tmp = tmp[:seq_length]\n",
    "            if len(tmp) < seq_length:\n",
    "                tmp = np.pad(tmp, (0, seq_length - len(tmp)), mode='constant')\n",
    "            dic[v.split(\".\")[0] + \"_\" + f.replace(\",\", \"\")] = tmp \n",
    "    for f in features_memory:\n",
    "        for v in Infos_memory:\n",
    "            tmp =parse_reg(\"ndpi-stats-random\", exp_ls, \"pcm-memory_new.csv\", f)\n",
    "            tmp = tmp[:seq_length]\n",
    "            if len(tmp) < seq_length:\n",
    "                tmp = np.pad(tmp, (0, seq_length - len(tmp)), mode='constant')\n",
    "                \n",
    "            dic[v.split(\".\")[0] + \"_\" + f.replace(\",\", \"\")] = tmp \n",
    "    for f in features_ddio:\n",
    "        for v in Infos_ddioways:\n",
    "            tmp =parse_reg(\"ndpi-stats-random\", exp_ls, \"ddio_ways_new.csv\", f)\n",
    "            tmp = tmp[:seq_length]\n",
    "            if len(tmp) < seq_length:\n",
    "                tmp = np.pad(tmp, (0, seq_length - len(tmp)), mode='constant')\n",
    "            dic[v.split(\".\")[0] + \"_\" + f.replace(\",\", \"\")] = tmp \n",
    "    for f in features_latency:\n",
    "        for v in Infos_latency:\n",
    "            tmp =parse_reg(\"ndpi-stats-random\", exp_ls, \"latency_new.csv\", f)\n",
    "            tmp = tmp[:seq_length]\n",
    "            if len(tmp) < seq_length:\n",
    "                tmp = np.pad(tmp, (0, seq_length - len(tmp)), mode='constant')\n",
    "            dic[v.split(\".\")[0] + \"_\" + f.replace(\",\", \"\")] = tmp\n",
    "    for f in features_pktsize:\n",
    "        for v in Infos_pktsize:\n",
    "            tmp =parse_reg(\"ndpi-stats-random\", exp_ls, \"tx_stats.csv\", f)\n",
    "            tmp = tmp[:seq_length]\n",
    "            if len(tmp) < seq_length:\n",
    "                tmp = np.pad(tmp, (0, seq_length - len(tmp)), mode='constant')\n",
    "            dic[v.split(\".\")[0] + \"_\" + f.replace(\",\", \"\")] = tmp \n",
    "    \n",
    "    return pd.DataFrame(dic)\n",
    "\n",
    "#bridge_L3MISS = parse_reg(\"fixed_rate\", exp_ls,  \"bridge-pcm.csv\", \"Socket 0-L3HIT\")\n",
    "#print(len(bridge_L3MISS))"
   ]
  },
  {
   "cell_type": "code",
   "execution_count": 48,
   "id": "efeb9943",
   "metadata": {
    "scrolled": false
   },
   "outputs": [],
   "source": [
    "df = make_df()\n"
   ]
  },
  {
   "cell_type": "code",
   "execution_count": 49,
   "id": "3b9de46a",
   "metadata": {
    "scrolled": false
   },
   "outputs": [
    {
     "name": "stdout",
     "output_type": "stream",
     "text": [
      "       input_rate  output_rate ndpi_stats-pcm_new_System-Date  \\\n",
      "0     4028.678192  3085.749267                     2024-02-23   \n",
      "1     2227.764527  2421.899994                     2024-02-23   \n",
      "2     5044.639954  5672.548015                     2024-02-23   \n",
      "3     9330.484868  8792.036006                     2024-02-23   \n",
      "4     9753.134207  9751.988007                     2024-02-23   \n",
      "...           ...          ...                            ...   \n",
      "1981  9997.011577  9977.467982                     2024-02-23   \n",
      "1982  9996.433078  9980.944845                     2024-02-23   \n",
      "1983  9991.918653  9971.382209                     2024-02-23   \n",
      "1984  9995.661939  9980.144482                     2024-02-23   \n",
      "1985  9996.230662  9980.263182                     2024-02-23   \n",
      "\n",
      "     ndpi_stats-pcm_new_System-Time  ndpi_stats-pcm_new_Socket 0-EXEC  \\\n",
      "0                      00:35:06.288                              0.36   \n",
      "1                      00:35:07.289                              0.32   \n",
      "2                      00:35:08.289                              0.33   \n",
      "3                      00:35:09.289                              0.33   \n",
      "4                      00:35:10.289                              0.33   \n",
      "...                             ...                               ...   \n",
      "1981                   01:08:07.613                              0.45   \n",
      "1982                   01:08:08.613                              0.45   \n",
      "1983                   01:08:09.613                              0.45   \n",
      "1984                   01:08:10.613                              0.44   \n",
      "1985                   01:08:11.613                              0.48   \n",
      "\n",
      "      ndpi_stats-pcm_new_Socket 0-IPC  ndpi_stats-pcm_new_Socket 0-FREQ  \\\n",
      "0                                1.88                              0.19   \n",
      "1                                1.45                              0.22   \n",
      "2                                1.77                              0.19   \n",
      "3                                1.77                              0.19   \n",
      "4                                1.77                              0.19   \n",
      "...                               ...                               ...   \n",
      "1981                             2.40                              0.19   \n",
      "1982                             2.38                              0.19   \n",
      "1983                             2.40                              0.19   \n",
      "1984                             2.02                              0.22   \n",
      "1985                             2.55                              0.19   \n",
      "\n",
      "      ndpi_stats-pcm_new_Socket 0-AFREQ  ndpi_stats-pcm_new_Socket 0-L3MISS  \\\n",
      "0                                  1.18                                0.56   \n",
      "1                                  1.16                                0.74   \n",
      "2                                  1.19                                0.11   \n",
      "3                                  1.19                                0.06   \n",
      "4                                  1.19                                0.08   \n",
      "...                                 ...                                 ...   \n",
      "1981                               1.19                                0.09   \n",
      "1982                               1.18                                0.10   \n",
      "1983                               1.18                                0.07   \n",
      "1984                               1.16                                0.77   \n",
      "1985                               1.19                                0.12   \n",
      "\n",
      "      ndpi_stats-pcm_new_Socket 0-L2MISS  ...  pcm-memory_new_System-Memory  \\\n",
      "0                                 155.12  ...                        869.75   \n",
      "1                                 150.21  ...                        539.79   \n",
      "2                                 156.30  ...                        218.04   \n",
      "3                                 156.51  ...                        180.01   \n",
      "4                                 156.17  ...                        156.18   \n",
      "...                                  ...  ...                           ...   \n",
      "1981                               41.46  ...                       2309.34   \n",
      "1982                               41.51  ...                       2301.95   \n",
      "1983                               41.49  ...                       2300.49   \n",
      "1984                               42.50  ...                       2492.26   \n",
      "1985                               44.31  ...                       2186.02   \n",
      "\n",
      "      ddio_ways_new_cos_way  ddio_ways_new_binary  ddio_ways_new_ddio_ways  \\\n",
      "0                     ffff8          1.111111e+19                     17.0   \n",
      "1                     ffff8          1.111111e+19                     17.0   \n",
      "2                     ffff8          1.111111e+19                     17.0   \n",
      "3                     ffff8          1.111111e+19                     17.0   \n",
      "4                     ffff8          1.111111e+19                     17.0   \n",
      "...                     ...                   ...                      ...   \n",
      "1981                  f8000          1.111100e+19                      5.0   \n",
      "1982                  f8000          1.111100e+19                      5.0   \n",
      "1983                  f8000          1.111100e+19                      5.0   \n",
      "1984                  f8000          1.111100e+19                      5.0   \n",
      "1985                  f8000          1.111100e+19                      5.0   \n",
      "\n",
      "      latency_new_latency  tx_stats_PacketRate  tx_stats_Mbit  \\\n",
      "0                203962.0             3.402593    3484.263321   \n",
      "1                  6125.0             1.881573    1926.712917   \n",
      "2                  5414.0             4.260664    4362.933651   \n",
      "3                 90701.0             7.880478    8069.608396   \n",
      "4                128010.0             8.237444    8435.143098   \n",
      "...                   ...                  ...            ...   \n",
      "1981             990342.0             1.196961    9805.497808   \n",
      "1982             962422.0             1.196893    9804.930235   \n",
      "1983             962535.0             1.196350    9800.502606   \n",
      "1984           15000000.0             1.196800    9804.173868   \n",
      "1985             962429.0             1.196868    9804.731853   \n",
      "\n",
      "      tx_stats_MbitWithFraming  tx_stats_TotalPackets  tx_stats_TotalBytes  \n",
      "0                  4028.678192           3.420189e+06         4.377864e+08  \n",
      "1                  2227.764527           5.304036e+06         6.789166e+08  \n",
      "2                  5044.639954           9.564721e+06         1.224286e+09  \n",
      "3                  9330.484868           1.744523e+07         2.232991e+09  \n",
      "4                  9753.134207           2.568273e+07         3.287391e+09  \n",
      "...                        ...                    ...                  ...  \n",
      "1981               9997.011577           4.788262e+09         2.369431e+12  \n",
      "1982               9996.433078           4.789459e+09         2.370656e+12  \n",
      "1983               9991.918653           4.790655e+09         2.371881e+12  \n",
      "1984               9995.661939           4.791852e+09         2.373107e+12  \n",
      "1985               9996.230662           4.793049e+09         2.374333e+12  \n",
      "\n",
      "[1986 rows x 171 columns]\n"
     ]
    }
   ],
   "source": [
    "print(df)"
   ]
  },
  {
   "cell_type": "code",
   "execution_count": 50,
   "id": "49f222cd",
   "metadata": {},
   "outputs": [],
   "source": [
    "def classify_packetrate(rate):\n",
    "    if rate > 10.5:\n",
    "        return 64\n",
    "    elif 7 <= rate <= 10.5:\n",
    "        return 128\n",
    "    elif 3 <= rate < 7:\n",
    "        return 256\n",
    "    elif 1.8 <= rate < 3:\n",
    "        return 512\n",
    "    elif 1 <= rate < 1.8:\n",
    "        return 1024\n",
    "    else: # rate < 1\n",
    "        return 1514\n",
    "\n",
    "# Apply the function to create a new column\n",
    "df['packetsize'] = df['tx_stats_PacketRate'].apply(classify_packetrate)"
   ]
  },
  {
   "cell_type": "code",
   "execution_count": 51,
   "id": "1333a439",
   "metadata": {},
   "outputs": [],
   "source": [
    "abs_path = os.path.join(\"..\\\\ndpi-stats-random\", \"ndpi-stats-random_\"+ exp_ls +\".csv\")\n",
    "df.to_csv(abs_path, sep=',')\n"
   ]
  },
  {
   "cell_type": "code",
   "execution_count": 52,
   "id": "e4088fa2",
   "metadata": {},
   "outputs": [
    {
     "data": {
      "text/plain": [
       "Index(['input_rate', 'output_rate', 'ndpi_stats-pcm_new_System-Date',\n",
       "       'ndpi_stats-pcm_new_System-Time', 'ndpi_stats-pcm_new_Socket 0-EXEC',\n",
       "       'ndpi_stats-pcm_new_Socket 0-IPC', 'ndpi_stats-pcm_new_Socket 0-FREQ',\n",
       "       'ndpi_stats-pcm_new_Socket 0-AFREQ',\n",
       "       'ndpi_stats-pcm_new_Socket 0-L3MISS',\n",
       "       'ndpi_stats-pcm_new_Socket 0-L2MISS',\n",
       "       ...\n",
       "       'ddio_ways_new_cos_way', 'ddio_ways_new_binary',\n",
       "       'ddio_ways_new_ddio_ways', 'latency_new_latency', 'tx_stats_PacketRate',\n",
       "       'tx_stats_Mbit', 'tx_stats_MbitWithFraming', 'tx_stats_TotalPackets',\n",
       "       'tx_stats_TotalBytes', 'packetsize'],\n",
       "      dtype='object', length=172)"
      ]
     },
     "execution_count": 52,
     "metadata": {},
     "output_type": "execute_result"
    }
   ],
   "source": [
    "df.columns"
   ]
  },
  {
   "cell_type": "code",
   "execution_count": null,
   "id": "b63f6047",
   "metadata": {},
   "outputs": [],
   "source": []
  }
 ],
 "metadata": {
  "kernelspec": {
   "display_name": "Python 3 (ipykernel)",
   "language": "python",
   "name": "python3"
  },
  "language_info": {
   "codemirror_mode": {
    "name": "ipython",
    "version": 3
   },
   "file_extension": ".py",
   "mimetype": "text/x-python",
   "name": "python",
   "nbconvert_exporter": "python",
   "pygments_lexer": "ipython3",
   "version": "3.10.9"
  }
 },
 "nbformat": 4,
 "nbformat_minor": 5
}
