{
 "cells": [
  {
   "cell_type": "code",
   "execution_count": 1,
   "id": "332ea0d9",
   "metadata": {},
   "outputs": [],
   "source": [
    "import torch\n",
    "import torch.nn as nn\n",
    "import torch.optim as optim\n",
    "import random\n",
    "import numpy as np\n",
    "from collections import namedtuple, deque"
   ]
  },
  {
   "cell_type": "code",
   "execution_count": 2,
   "id": "7f220c17",
   "metadata": {},
   "outputs": [],
   "source": [
    "import pandas as pd\n",
    "import numpy as np\n",
    "from sklearn.preprocessing import StandardScaler, MinMaxScaler\n",
    "import matplotlib.pyplot as plt\n",
    "import causallearn\n",
    "\n",
    "from causallearn.utils.GraphUtils import GraphUtils\n",
    "import matplotlib.image as mpimg\n",
    "import io\n",
    "import os\n",
    "import matplotlib.cm as cm\n",
    "from sklearn.preprocessing import StandardScaler\n",
    "from sklearn.decomposition import PCA\n",
    "from matplotlib.colors import Normalize\n",
    "import matplotlib as mp"
   ]
  },
  {
   "cell_type": "code",
   "execution_count": 3,
   "id": "88cdbd96",
   "metadata": {},
   "outputs": [],
   "source": [
    "# Define the DDQN network\n",
    "class Net(nn.Module):\n",
    "    def __init__(self, state_size, action_size, hidden_size=64):\n",
    "        super(Net, self).__init__()\n",
    "        self.fc1 = nn.Linear(state_size, hidden_size)\n",
    "        self.relu = nn.ReLU()\n",
    "        self.fc2 = nn.Linear(hidden_size, action_size)\n",
    "\n",
    "    def forward(self, state):\n",
    "        x = self.relu(self.fc1(state))\n",
    "        return self.fc2(x)"
   ]
  },
  {
   "cell_type": "markdown",
   "id": "9d78e116",
   "metadata": {},
   "source": [
    "# Prepareoffline samples"
   ]
  },
  {
   "cell_type": "code",
   "execution_count": 4,
   "id": "9b5cb945",
   "metadata": {},
   "outputs": [],
   "source": [
    "#experiment: bridge, different pktsize-corresponding the different ddioway?"
   ]
  },
  {
   "cell_type": "code",
   "execution_count": 9,
   "id": "e2ca1ef8",
   "metadata": {},
   "outputs": [],
   "source": [
    "import pandas as pd\n",
    "\n",
    "# Path to your CSV file\n",
    "csv_file = f'..\\\\DRL_framework\\\\ndpi-stats-random\\\\ndpi-stats-random_2000s.csv'\n",
    "\n",
    "# Read the CSV file\n",
    "#df = pd.read_csv(csv_file, header=[0, 1])"
   ]
  },
  {
   "cell_type": "code",
   "execution_count": 10,
   "id": "58605a54",
   "metadata": {},
   "outputs": [
    {
     "ename": "ValueError",
     "evalue": "Usecols do not match columns, columns expected but not found: ['latency', 'input-rate', 'throughput', 'llc-way']",
     "output_type": "error",
     "traceback": [
      "\u001b[1;31m---------------------------------------------------------------------------\u001b[0m",
      "\u001b[1;31mValueError\u001b[0m                                Traceback (most recent call last)",
      "Cell \u001b[1;32mIn[10], line 9\u001b[0m\n\u001b[0;32m      7\u001b[0m action_column \u001b[38;5;241m=\u001b[39m [\u001b[38;5;124m\"\u001b[39m\u001b[38;5;124mllc-way\u001b[39m\u001b[38;5;124m\"\u001b[39m]\n\u001b[0;32m      8\u001b[0m \u001b[38;5;66;03m#state\u001b[39;00m\n\u001b[1;32m----> 9\u001b[0m df \u001b[38;5;241m=\u001b[39m \u001b[43mpd\u001b[49m\u001b[38;5;241;43m.\u001b[39;49m\u001b[43mread_csv\u001b[49m\u001b[43m(\u001b[49m\u001b[43mcsv_file\u001b[49m\u001b[43m,\u001b[49m\u001b[43m \u001b[49m\u001b[43musecols\u001b[49m\u001b[38;5;241;43m=\u001b[39;49m\u001b[43mstate_columns\u001b[49m\u001b[38;5;241;43m+\u001b[39;49m\u001b[43maction_column\u001b[49m\u001b[43m)\u001b[49m\n\u001b[0;32m     10\u001b[0m df\u001b[38;5;241m.\u001b[39minfo()\n",
      "File \u001b[1;32m~\\AppData\\Roaming\\Python\\Python310\\site-packages\\pandas\\util\\_decorators.py:211\u001b[0m, in \u001b[0;36mdeprecate_kwarg.<locals>._deprecate_kwarg.<locals>.wrapper\u001b[1;34m(*args, **kwargs)\u001b[0m\n\u001b[0;32m    209\u001b[0m     \u001b[38;5;28;01melse\u001b[39;00m:\n\u001b[0;32m    210\u001b[0m         kwargs[new_arg_name] \u001b[38;5;241m=\u001b[39m new_arg_value\n\u001b[1;32m--> 211\u001b[0m \u001b[38;5;28;01mreturn\u001b[39;00m func(\u001b[38;5;241m*\u001b[39margs, \u001b[38;5;241m*\u001b[39m\u001b[38;5;241m*\u001b[39mkwargs)\n",
      "File \u001b[1;32m~\\AppData\\Roaming\\Python\\Python310\\site-packages\\pandas\\util\\_decorators.py:331\u001b[0m, in \u001b[0;36mdeprecate_nonkeyword_arguments.<locals>.decorate.<locals>.wrapper\u001b[1;34m(*args, **kwargs)\u001b[0m\n\u001b[0;32m    325\u001b[0m \u001b[38;5;28;01mif\u001b[39;00m \u001b[38;5;28mlen\u001b[39m(args) \u001b[38;5;241m>\u001b[39m num_allow_args:\n\u001b[0;32m    326\u001b[0m     warnings\u001b[38;5;241m.\u001b[39mwarn(\n\u001b[0;32m    327\u001b[0m         msg\u001b[38;5;241m.\u001b[39mformat(arguments\u001b[38;5;241m=\u001b[39m_format_argument_list(allow_args)),\n\u001b[0;32m    328\u001b[0m         \u001b[38;5;167;01mFutureWarning\u001b[39;00m,\n\u001b[0;32m    329\u001b[0m         stacklevel\u001b[38;5;241m=\u001b[39mfind_stack_level(),\n\u001b[0;32m    330\u001b[0m     )\n\u001b[1;32m--> 331\u001b[0m \u001b[38;5;28;01mreturn\u001b[39;00m func(\u001b[38;5;241m*\u001b[39margs, \u001b[38;5;241m*\u001b[39m\u001b[38;5;241m*\u001b[39mkwargs)\n",
      "File \u001b[1;32m~\\AppData\\Roaming\\Python\\Python310\\site-packages\\pandas\\io\\parsers\\readers.py:950\u001b[0m, in \u001b[0;36mread_csv\u001b[1;34m(filepath_or_buffer, sep, delimiter, header, names, index_col, usecols, squeeze, prefix, mangle_dupe_cols, dtype, engine, converters, true_values, false_values, skipinitialspace, skiprows, skipfooter, nrows, na_values, keep_default_na, na_filter, verbose, skip_blank_lines, parse_dates, infer_datetime_format, keep_date_col, date_parser, dayfirst, cache_dates, iterator, chunksize, compression, thousands, decimal, lineterminator, quotechar, quoting, doublequote, escapechar, comment, encoding, encoding_errors, dialect, error_bad_lines, warn_bad_lines, on_bad_lines, delim_whitespace, low_memory, memory_map, float_precision, storage_options)\u001b[0m\n\u001b[0;32m    935\u001b[0m kwds_defaults \u001b[38;5;241m=\u001b[39m _refine_defaults_read(\n\u001b[0;32m    936\u001b[0m     dialect,\n\u001b[0;32m    937\u001b[0m     delimiter,\n\u001b[1;32m   (...)\u001b[0m\n\u001b[0;32m    946\u001b[0m     defaults\u001b[38;5;241m=\u001b[39m{\u001b[38;5;124m\"\u001b[39m\u001b[38;5;124mdelimiter\u001b[39m\u001b[38;5;124m\"\u001b[39m: \u001b[38;5;124m\"\u001b[39m\u001b[38;5;124m,\u001b[39m\u001b[38;5;124m\"\u001b[39m},\n\u001b[0;32m    947\u001b[0m )\n\u001b[0;32m    948\u001b[0m kwds\u001b[38;5;241m.\u001b[39mupdate(kwds_defaults)\n\u001b[1;32m--> 950\u001b[0m \u001b[38;5;28;01mreturn\u001b[39;00m \u001b[43m_read\u001b[49m\u001b[43m(\u001b[49m\u001b[43mfilepath_or_buffer\u001b[49m\u001b[43m,\u001b[49m\u001b[43m \u001b[49m\u001b[43mkwds\u001b[49m\u001b[43m)\u001b[49m\n",
      "File \u001b[1;32m~\\AppData\\Roaming\\Python\\Python310\\site-packages\\pandas\\io\\parsers\\readers.py:605\u001b[0m, in \u001b[0;36m_read\u001b[1;34m(filepath_or_buffer, kwds)\u001b[0m\n\u001b[0;32m    602\u001b[0m _validate_names(kwds\u001b[38;5;241m.\u001b[39mget(\u001b[38;5;124m\"\u001b[39m\u001b[38;5;124mnames\u001b[39m\u001b[38;5;124m\"\u001b[39m, \u001b[38;5;28;01mNone\u001b[39;00m))\n\u001b[0;32m    604\u001b[0m \u001b[38;5;66;03m# Create the parser.\u001b[39;00m\n\u001b[1;32m--> 605\u001b[0m parser \u001b[38;5;241m=\u001b[39m TextFileReader(filepath_or_buffer, \u001b[38;5;241m*\u001b[39m\u001b[38;5;241m*\u001b[39mkwds)\n\u001b[0;32m    607\u001b[0m \u001b[38;5;28;01mif\u001b[39;00m chunksize \u001b[38;5;129;01mor\u001b[39;00m iterator:\n\u001b[0;32m    608\u001b[0m     \u001b[38;5;28;01mreturn\u001b[39;00m parser\n",
      "File \u001b[1;32m~\\AppData\\Roaming\\Python\\Python310\\site-packages\\pandas\\io\\parsers\\readers.py:1442\u001b[0m, in \u001b[0;36mTextFileReader.__init__\u001b[1;34m(self, f, engine, **kwds)\u001b[0m\n\u001b[0;32m   1439\u001b[0m     \u001b[38;5;28mself\u001b[39m\u001b[38;5;241m.\u001b[39moptions[\u001b[38;5;124m\"\u001b[39m\u001b[38;5;124mhas_index_names\u001b[39m\u001b[38;5;124m\"\u001b[39m] \u001b[38;5;241m=\u001b[39m kwds[\u001b[38;5;124m\"\u001b[39m\u001b[38;5;124mhas_index_names\u001b[39m\u001b[38;5;124m\"\u001b[39m]\n\u001b[0;32m   1441\u001b[0m \u001b[38;5;28mself\u001b[39m\u001b[38;5;241m.\u001b[39mhandles: IOHandles \u001b[38;5;241m|\u001b[39m \u001b[38;5;28;01mNone\u001b[39;00m \u001b[38;5;241m=\u001b[39m \u001b[38;5;28;01mNone\u001b[39;00m\n\u001b[1;32m-> 1442\u001b[0m \u001b[38;5;28mself\u001b[39m\u001b[38;5;241m.\u001b[39m_engine \u001b[38;5;241m=\u001b[39m \u001b[38;5;28;43mself\u001b[39;49m\u001b[38;5;241;43m.\u001b[39;49m\u001b[43m_make_engine\u001b[49m\u001b[43m(\u001b[49m\u001b[43mf\u001b[49m\u001b[43m,\u001b[49m\u001b[43m \u001b[49m\u001b[38;5;28;43mself\u001b[39;49m\u001b[38;5;241;43m.\u001b[39;49m\u001b[43mengine\u001b[49m\u001b[43m)\u001b[49m\n",
      "File \u001b[1;32m~\\AppData\\Roaming\\Python\\Python310\\site-packages\\pandas\\io\\parsers\\readers.py:1753\u001b[0m, in \u001b[0;36mTextFileReader._make_engine\u001b[1;34m(self, f, engine)\u001b[0m\n\u001b[0;32m   1750\u001b[0m     \u001b[38;5;28;01mraise\u001b[39;00m \u001b[38;5;167;01mValueError\u001b[39;00m(msg)\n\u001b[0;32m   1752\u001b[0m \u001b[38;5;28;01mtry\u001b[39;00m:\n\u001b[1;32m-> 1753\u001b[0m     \u001b[38;5;28;01mreturn\u001b[39;00m mapping[engine](f, \u001b[38;5;241m*\u001b[39m\u001b[38;5;241m*\u001b[39m\u001b[38;5;28mself\u001b[39m\u001b[38;5;241m.\u001b[39moptions)\n\u001b[0;32m   1754\u001b[0m \u001b[38;5;28;01mexcept\u001b[39;00m \u001b[38;5;167;01mException\u001b[39;00m:\n\u001b[0;32m   1755\u001b[0m     \u001b[38;5;28;01mif\u001b[39;00m \u001b[38;5;28mself\u001b[39m\u001b[38;5;241m.\u001b[39mhandles \u001b[38;5;129;01mis\u001b[39;00m \u001b[38;5;129;01mnot\u001b[39;00m \u001b[38;5;28;01mNone\u001b[39;00m:\n",
      "File \u001b[1;32m~\\AppData\\Roaming\\Python\\Python310\\site-packages\\pandas\\io\\parsers\\c_parser_wrapper.py:135\u001b[0m, in \u001b[0;36mCParserWrapper.__init__\u001b[1;34m(self, src, **kwds)\u001b[0m\n\u001b[0;32m    131\u001b[0m \u001b[38;5;28;01massert\u001b[39;00m \u001b[38;5;28mself\u001b[39m\u001b[38;5;241m.\u001b[39morig_names \u001b[38;5;129;01mis\u001b[39;00m \u001b[38;5;129;01mnot\u001b[39;00m \u001b[38;5;28;01mNone\u001b[39;00m\n\u001b[0;32m    132\u001b[0m \u001b[38;5;28;01mif\u001b[39;00m \u001b[38;5;28mself\u001b[39m\u001b[38;5;241m.\u001b[39musecols_dtype \u001b[38;5;241m==\u001b[39m \u001b[38;5;124m\"\u001b[39m\u001b[38;5;124mstring\u001b[39m\u001b[38;5;124m\"\u001b[39m \u001b[38;5;129;01mand\u001b[39;00m \u001b[38;5;129;01mnot\u001b[39;00m \u001b[38;5;28mset\u001b[39m(usecols)\u001b[38;5;241m.\u001b[39missubset(\n\u001b[0;32m    133\u001b[0m     \u001b[38;5;28mself\u001b[39m\u001b[38;5;241m.\u001b[39morig_names\n\u001b[0;32m    134\u001b[0m ):\n\u001b[1;32m--> 135\u001b[0m     \u001b[38;5;28;43mself\u001b[39;49m\u001b[38;5;241;43m.\u001b[39;49m\u001b[43m_validate_usecols_names\u001b[49m\u001b[43m(\u001b[49m\u001b[43musecols\u001b[49m\u001b[43m,\u001b[49m\u001b[43m \u001b[49m\u001b[38;5;28;43mself\u001b[39;49m\u001b[38;5;241;43m.\u001b[39;49m\u001b[43morig_names\u001b[49m\u001b[43m)\u001b[49m\n\u001b[0;32m    137\u001b[0m \u001b[38;5;66;03m# error: Cannot determine type of 'names'\u001b[39;00m\n\u001b[0;32m    138\u001b[0m \u001b[38;5;28;01mif\u001b[39;00m \u001b[38;5;28mlen\u001b[39m(\u001b[38;5;28mself\u001b[39m\u001b[38;5;241m.\u001b[39mnames) \u001b[38;5;241m>\u001b[39m \u001b[38;5;28mlen\u001b[39m(usecols):  \u001b[38;5;66;03m# type: ignore[has-type]\u001b[39;00m\n\u001b[0;32m    139\u001b[0m     \u001b[38;5;66;03m# error: Cannot determine type of 'names'\u001b[39;00m\n",
      "File \u001b[1;32m~\\AppData\\Roaming\\Python\\Python310\\site-packages\\pandas\\io\\parsers\\base_parser.py:917\u001b[0m, in \u001b[0;36mParserBase._validate_usecols_names\u001b[1;34m(self, usecols, names)\u001b[0m\n\u001b[0;32m    915\u001b[0m missing \u001b[38;5;241m=\u001b[39m [c \u001b[38;5;28;01mfor\u001b[39;00m c \u001b[38;5;129;01min\u001b[39;00m usecols \u001b[38;5;28;01mif\u001b[39;00m c \u001b[38;5;129;01mnot\u001b[39;00m \u001b[38;5;129;01min\u001b[39;00m names]\n\u001b[0;32m    916\u001b[0m \u001b[38;5;28;01mif\u001b[39;00m \u001b[38;5;28mlen\u001b[39m(missing) \u001b[38;5;241m>\u001b[39m \u001b[38;5;241m0\u001b[39m:\n\u001b[1;32m--> 917\u001b[0m     \u001b[38;5;28;01mraise\u001b[39;00m \u001b[38;5;167;01mValueError\u001b[39;00m(\n\u001b[0;32m    918\u001b[0m         \u001b[38;5;124mf\u001b[39m\u001b[38;5;124m\"\u001b[39m\u001b[38;5;124mUsecols do not match columns, columns expected but not found: \u001b[39m\u001b[38;5;124m\"\u001b[39m\n\u001b[0;32m    919\u001b[0m         \u001b[38;5;124mf\u001b[39m\u001b[38;5;124m\"\u001b[39m\u001b[38;5;132;01m{\u001b[39;00mmissing\u001b[38;5;132;01m}\u001b[39;00m\u001b[38;5;124m\"\u001b[39m\n\u001b[0;32m    920\u001b[0m     )\n\u001b[0;32m    922\u001b[0m \u001b[38;5;28;01mreturn\u001b[39;00m usecols\n",
      "\u001b[1;31mValueError\u001b[0m: Usecols do not match columns, columns expected but not found: ['latency', 'input-rate', 'throughput', 'llc-way']"
     ]
    }
   ],
   "source": [
    "import pandas as pd\n",
    "#state_columns_1 = [\"input-rate\", \"throughput\", \"latency\"]\n",
    "state_columns = [\"input-rate\", \"throughput\", \"latency_new_latency\",\"ndpi_stats-pcm_new_Socket 0-PhysIPC\", \"ndpi_stats-pcm_new_Socket 0-L3MISS\", \"ndpi_stats-pcm_new_Socket 0-L3HIT\",\n",
    "                   \"pcm-pcie_new_skt-0_PCIRdCur\", \"pcm-pcie_new_skt-0_ItoM\"]\n",
    "#state_columns = [\"ndpi_stats-pcm_new_Socket 0-PhysIPC\", \"ndpi_stats-pcm_new_Socket 0-L3MISS\", \"ndpi_stats-pcm_new_Socket 0-L3HIT\",\n",
    "           #        \"pcm-pcie_new_skt-0_PCIRdCur\", \"pcm-pcie_new_skt-0_ItoM\"]\n",
    "action_column = [\"llc-way\"]\n",
    "#state\n",
    "df = pd.read_csv(csv_file, usecols=state_columns+action_column)\n",
    "df.info()"
   ]
  },
  {
   "cell_type": "code",
   "execution_count": 7,
   "id": "d2a7b744",
   "metadata": {},
   "outputs": [
    {
     "name": "stdout",
     "output_type": "stream",
     "text": [
      "ndpi_stats-pcm_new_Socket 0-L3MISS          13.61\n",
      "ndpi_stats-pcm_new_Socket 0-L3HIT            0.73\n",
      "ndpi_stats-pcm_new_Socket 0-PhysIPC          4.78\n",
      "pcm-pcie_new_skt-0_PCIRdCur            8873634.00\n",
      "pcm-pcie_new_skt-0_ItoM                1053024.00\n",
      "llc-way                                      4.00\n",
      "input-rate                                   5.49\n",
      "throughput                                   5.42\n",
      "latency                                  11137.80\n",
      "Name: 700, dtype: float64\n"
     ]
    }
   ],
   "source": [
    "a_sample = df.iloc[700]\n",
    "print(a_sample)"
   ]
  },
  {
   "cell_type": "code",
   "execution_count": 8,
   "id": "d3aae12e",
   "metadata": {},
   "outputs": [],
   "source": [
    "#scaler = StandardScaler()\n",
    "scaler = MinMaxScaler()\n",
    "state_space = df[state_columns].values \n",
    "scaler.fit(state_space)\n",
    "state_space_scaled = scaler.transform(state_space)"
   ]
  },
  {
   "cell_type": "code",
   "execution_count": 9,
   "id": "ab4fae89",
   "metadata": {},
   "outputs": [
    {
     "name": "stdout",
     "output_type": "stream",
     "text": [
      "29.265022000000002\n"
     ]
    }
   ],
   "source": [
    "#reward\n",
    "r_1 = a_sample['throughput']*a_sample['throughput']-a_sample['latency']/100000\n",
    "print(r_1)"
   ]
  },
  {
   "cell_type": "code",
   "execution_count": 10,
   "id": "82b99960",
   "metadata": {},
   "outputs": [],
   "source": [
    "#generate samples\n",
    "samples=[]\n",
    "scaler = StandardScaler()\n",
    "for i in range(len(df) - 1):  \n",
    "   # state = df.loc[i, state_columns].values.tolist()\n",
    "    state = state_space_scaled[i]\n",
    "    action = df.loc[i, action_column].values.tolist()\n",
    "   # next_state = df.loc[i + 1, state_columns].values.tolist()\n",
    "    next_state = state_space_scaled[i + 1]\n",
    "    next_action = df.loc[i + 1, action_column].values.tolist()\n",
    "  #  reward = df.loc[i, 'throughput'] * df.loc[i, 'throughput']* df.loc[i, 'throughput']-df.loc[i, 'latency']/1000000\n",
    "    reward = df.loc[i, 'throughput']*df.loc[i, 'throughput']  -df.loc[i, 'latency']/1000000\n",
    "\n",
    "    samples.append((state, action, next_state, next_action, reward))\n",
    "samples_df = pd.DataFrame(samples, columns=['State', 'Action', 'Next State', 'Next Action', 'Reward'])"
   ]
  },
  {
   "cell_type": "code",
   "execution_count": 11,
   "id": "196f2327",
   "metadata": {
    "scrolled": false
   },
   "outputs": [
    {
     "name": "stdout",
     "output_type": "stream",
     "text": [
      "[0.94117647 0.9        0.17444173 0.29853862 0.51290685 0.41237113\n",
      " 0.00103988 0.97824773]\n",
      "[2.0]\n",
      "[0.94117647 0.9        0.17444173 0.32776618 0.48110737 0.46391753\n",
      " 0.0010479  0.98181146]\n",
      "[2.0]\n",
      "28.170944899999995\n",
      "State          [0.941176470588232, 0.8999999999999995, 0.1744...\n",
      "Action                                                     [2.0]\n",
      "Next State     [0.941176470588232, 0.8999999999999995, 0.1744...\n",
      "Next Action                                                [2.0]\n",
      "Reward                                                 28.170945\n",
      "Name: 1, dtype: object\n"
     ]
    }
   ],
   "source": [
    "print(samples_df.iloc[1]['State'])\n",
    "print(samples_df.iloc[1]['Action'])\n",
    "print(samples_df.iloc[1]['Next State'])\n",
    "print(samples_df.iloc[1]['Next Action'])\n",
    "print(samples_df.iloc[1]['Reward'])\n",
    "print(samples_df.iloc[1])"
   ]
  },
  {
   "cell_type": "code",
   "execution_count": 12,
   "id": "5dd9f602",
   "metadata": {},
   "outputs": [],
   "source": [
    "class DDQN(nn.Module):\n",
    "    def __init__(self, state_size, action_size):\n",
    "        super(DDQN, self).__init__()\n",
    "        self.fc1 = nn.Linear(state_size, 24)\n",
    "        self.fc2 = nn.Linear(24, 24)\n",
    "        self.fc3 = nn.Linear(24, action_size)\n",
    "\n",
    "    def forward(self, x):\n",
    "        x = torch.relu(self.fc1(x))\n",
    "        x = torch.relu(self.fc2(x))\n",
    "        return self.fc3(x)"
   ]
  },
  {
   "cell_type": "code",
   "execution_count": 13,
   "id": "ca9896a9",
   "metadata": {},
   "outputs": [],
   "source": [
    "\n",
    "#current_q_values = policy_net(state.unsqueeze(0))\n",
    "#得到所有动作的评分，输出是一个向量，对应每个动作的值[1.2,0.5,3.4,2.1]\n",
    "\n",
    "#current_q_values = policy_net(state.unsqueeze(0)).gather(1, action.unsqueeze(1))\n",
    "#得到特定动作的评分，输出是一个值0.5, 如果选了动作2\n",
    "\n",
    "#next_q_values = target_net(next_state.unsqueeze(0)).max(1)[0].detach()\n",
    "#找到下一个q值，target_net(next_state.unsqueeze(0))=[1.2,0.5,3.4,2.1]，然后.max(1)[0]输出的是3.4，\n",
    "#然后.detach()确保3.4再后续梯度中不影响梯度计算， 则next_q_values =3.4"
   ]
  },
  {
   "cell_type": "code",
   "execution_count": 14,
   "id": "bc8e068e",
   "metadata": {
    "scrolled": false
   },
   "outputs": [],
   "source": [
    "from torch.optim.lr_scheduler import LambdaLR\n",
    "\n",
    "\n",
    "state_size = 8\n",
    "action_size = 20\n",
    "\n",
    "# initialization\n",
    "policy_net = DDQN(state_size, action_size)\n",
    "target_net = DDQN(state_size, action_size)\n",
    "target_net.load_state_dict(policy_net.state_dict())\n",
    "target_net.eval() \n",
    "\n",
    "optimizer = optim.Adam(policy_net.parameters())\n",
    "loss_fn = nn.MSELoss()\n",
    "losses = []\n",
    "\n",
    "for index, row in samples_df.iterrows():\n",
    "\n",
    "    # Extract and convert the state, action, next state, and reward from the row\n",
    "    state = torch.FloatTensor(row['State'])\n",
    "    next_state = torch.FloatTensor(row['Next State'])\n",
    "    action = torch.LongTensor([int(row['Action'][0])-1])\n",
    "    reward = torch.FloatTensor([row['Reward']])\n",
    "    \n",
    "    # current q value\n",
    "    current_q_values = policy_net(state.unsqueeze(0)).gather(1, action.unsqueeze(1))\n",
    "    next_q_values = target_net(next_state.unsqueeze(0)).max(1)[0].detach()\n",
    "    expected_q_values = (next_q_values * 0.9) + reward\n",
    "    loss = loss_fn(current_q_values, expected_q_values.unsqueeze(1))\n",
    "    losses.append(loss.item())\n",
    "    optimizer.zero_grad()\n",
    "    loss.backward()\n",
    "    optimizer.step()\n",
    "\n"
   ]
  },
  {
   "cell_type": "code",
   "execution_count": 15,
   "id": "83064547",
   "metadata": {},
   "outputs": [
    {
     "data": {
      "image/png": "[encoded data removed]",
      "text/plain": [
       "<Figure size 1000x500 with 1 Axes>"
      ]
     },
     "metadata": {},
     "output_type": "display_data"
    }
   ],
   "source": [
    "import matplotlib.pyplot as plt\n",
    "\n",
    "plt.figure(figsize=(10, 5))\n",
    "plt.plot(losses[100:], label='Training Loss')\n",
    "plt.title('Loss During Training')\n",
    "plt.xlabel('Iteration')\n",
    "plt.ylabel('Loss')\n",
    "plt.legend()\n",
    "plt.show()\n"
   ]
  },
  {
   "cell_type": "code",
   "execution_count": 17,
   "id": "c2c7f943",
   "metadata": {},
   "outputs": [
    {
     "name": "stdout",
     "output_type": "stream",
     "text": [
      "tensor([[ 19.0297,  37.9803,   1.9518,  37.8064,   4.4251,  -6.1420,   4.6793,\n",
      "          -2.3633,  -4.8786,   0.9152,  -3.5520,   8.0798,   1.5599,   1.3985,\n",
      "          -4.5006,   6.7639,   2.0312, -11.6495,  -5.7391,  30.4923]])\n",
      "Action 0: Q Value = 19.029651641845703\n",
      "Action 1: Q Value = 37.980308532714844\n",
      "Action 2: Q Value = 1.9517927169799805\n",
      "Action 3: Q Value = 37.80644989013672\n",
      "Action 4: Q Value = 4.4251179695129395\n",
      "Action 5: Q Value = -6.142009258270264\n",
      "Action 6: Q Value = 4.67931604385376\n",
      "Action 7: Q Value = -2.363339900970459\n",
      "Action 8: Q Value = -4.878621578216553\n",
      "Action 9: Q Value = 0.9151804447174072\n",
      "Action 10: Q Value = -3.5519933700561523\n",
      "Action 11: Q Value = 8.079765319824219\n",
      "Action 12: Q Value = 1.559884786605835\n",
      "Action 13: Q Value = 1.3984946012496948\n",
      "Action 14: Q Value = -4.5006303787231445\n",
      "Action 15: Q Value = 6.763882160186768\n",
      "Action 16: Q Value = 2.031198263168335\n",
      "Action 17: Q Value = -11.64951229095459\n",
      "Action 18: Q Value = -5.739129066467285\n",
      "Action 19: Q Value = 30.49227523803711\n"
     ]
    },
    {
     "data": {
      "image/png": "[encoded data removed]",
      "text/plain": [
       "<Figure size 800x600 with 1 Axes>"
      ]
     },
     "metadata": {},
     "output_type": "display_data"
    }
   ],
   "source": [
    "state_tensor = torch.FloatTensor(state).unsqueeze(0)  \n",
    "policy_net.eval()  \n",
    "with torch.no_grad():  \n",
    "    q_values = policy_net(state_tensor)\n",
    "    print(q_values)\n",
    "\n",
    "with torch.no_grad():\n",
    "    q_values = policy_net(state_tensor).squeeze()\n",
    "    for action, q_value in enumerate(q_values.tolist()):\n",
    "        print(f\"Action {action}: Q Value = {q_value}\")\n",
    "#q_values[1]=27228528\n",
    "#q_values[3]=28228528\n",
    "\n",
    "actions = range(20) \n",
    "plt.figure(figsize=(5，3))\n",
    "plt.bar([i+1 for i in actions], q_values, color='skyblue')\n",
    "plt.title('Q Values for Each Action')\n",
    "plt.xlabel('LLC ways')\n",
    "plt.ylabel('Q Value')\n",
    "plt.xticks([i+1 for i in actions])  \n",
    "#plt.grid(axis='y', linestyle='--', alpha=0.6)\n",
    "plt.grid()\n",
    "plt.show()\n"
   ]
  },
  {
   "cell_type": "code",
   "execution_count": 155,
   "id": "6da6f9e8",
   "metadata": {},
   "outputs": [
    {
     "name": "stdout",
     "output_type": "stream",
     "text": [
      "[5.65, 5.43, 1313955.1, 3.9, 27.43, 0.43, 8411102.0, 1110634.0]\n"
     ]
    }
   ],
   "source": [
    "#generate samples\n",
    "samples=[]\n",
    "scaler = StandardScaler()\n",
    "for i in range(len(df) - 1):  \n",
    "    state = df.loc[i, state_columns].values.tolist()\n",
    "   # state = state_space_scaled[i]\n",
    "    action = df.loc[i, action_column].values.tolist()\n",
    "    next_state = df.loc[i + 1, state_columns].values.tolist()\n",
    "   # next_state = state_space_scaled[i + 1]\n",
    "    next_action = df.loc[i + 1, action_column].values.tolist()\n",
    "    reward = df.loc[i, 'throughput'] * df.loc[i, 'throughput']-df.loc[i, 'latency']\n",
    "\n",
    "    samples.append((state, action, next_state, next_action, reward))\n",
    "samples_df_1 = pd.DataFrame(samples, columns=['State', 'Action', 'Next State', 'Next Action', 'Reward'])\n",
    "print(samples_df_1.iloc[1]['State'])"
   ]
  },
  {
   "cell_type": "markdown",
   "id": "24f82abe",
   "metadata": {},
   "source": [
    "# Using batch processing"
   ]
  },
  {
   "cell_type": "code",
   "execution_count": 15,
   "id": "7cf68200",
   "metadata": {},
   "outputs": [],
   "source": [
    "#generate samples\n",
    "samples=[]\n",
    "scaler = StandardScaler()\n",
    "for i in range(len(df) - 1):  \n",
    "   # state = df.loc[i, state_columns].values.tolist()\n",
    "    state = state_space_scaled[i]\n",
    "    action = df.loc[i, action_column].values.tolist()\n",
    "    next_state = state_space_scaled[i + 1]\n",
    "    next_action = df.loc[i + 1, action_column].values.tolist()\n",
    "    reward = df.loc[i, 'throughput']*df.loc[i, 'throughput']  -df.loc[i, 'latency']/1000000\n",
    "\n",
    "    samples.append((state, action, next_state, next_action, reward))\n",
    "samples_df = pd.DataFrame(samples, columns=['State', 'Action', 'Next State', 'Next Action', 'Reward'])"
   ]
  },
  {
   "cell_type": "code",
   "execution_count": 16,
   "id": "41fb9d6e",
   "metadata": {},
   "outputs": [],
   "source": [
    "from torch.utils.data import Dataset\n",
    "from torch.utils.data import DataLoader\n",
    "import torch\n",
    "\n",
    "class CustomDataset(Dataset):\n",
    "    def __init__(self, dataframe):\n",
    "        self.dataframe = dataframe\n",
    "    \n",
    "    def __len__(self):\n",
    "        return len(self.dataframe)\n",
    "    \n",
    "    def __getitem__(self, index):\n",
    "        # Extracting row by row index (assuming dataframe is already correctly indexed)\n",
    "        row = self.dataframe.iloc[index]\n",
    "        state = torch.FloatTensor(row['State'])\n",
    "        next_state = torch.FloatTensor(row['Next State'])\n",
    "        action = torch.LongTensor([int(row['Action'][0])-1])\n",
    "        # Converting 'Reward' to tensor\n",
    "        reward = torch.FloatTensor([row['Reward']])\n",
    "        return state, action, next_state, reward\n"
   ]
  },
  {
   "cell_type": "code",
   "execution_count": 17,
   "id": "e5a4dc48",
   "metadata": {},
   "outputs": [
    {
     "data": {
      "text/plain": [
       "<torch.utils.data.dataloader.DataLoader at 0x1fb7323a3b0>"
      ]
     },
     "execution_count": 17,
     "metadata": {},
     "output_type": "execute_result"
    }
   ],
   "source": [
    "batch_size = 8\n",
    "num_epochs = 5\n",
    "dataset = CustomDataset(samples_df)\n",
    "data_loader = DataLoader(dataset, batch_size=batch_size, shuffle=True)\n",
    "data_loader"
   ]
  },
  {
   "cell_type": "code",
   "execution_count": 18,
   "id": "3ba4ef72",
   "metadata": {
    "scrolled": false
   },
   "outputs": [],
   "source": [
    "losses.append(loss.item())\n",
    "for epoch in range(num_epochs): \n",
    "    for states, actions, next_states, rewards in data_loader:\n",
    "\n",
    "        # a batch \n",
    "        current_q_values = policy_net(states).gather(1, actions)\n",
    "        next_q_values = target_net(next_states).detach().max(1)[0]\n",
    "        expected_q_values = (next_q_values.unsqueeze(1) * 0.9) + rewards\n",
    "\n",
    "        # ensure current_q_value and expected_q_values is the same\n",
    "        loss = loss_fn(current_q_values, expected_q_values)\n",
    "        optimizer.zero_grad()\n",
    "        loss.backward()\n",
    "        optimizer.step()\n",
    "        losses.append(loss.item())\n",
    "\n",
    "        "
   ]
  },
  {
   "cell_type": "code",
   "execution_count": 23,
   "id": "4333c0e3",
   "metadata": {},
   "outputs": [
    {
     "data": {
      "image/png": "[encoded data removed]",
      "text/plain": [
       "<Figure size 500x300 with 1 Axes>"
      ]
     },
     "metadata": {},
     "output_type": "display_data"
    }
   ],
   "source": [
    "import matplotlib.pyplot as plt\n",
    "\n",
    "plt.figure(figsize=(5,3))\n",
    "plt.plot(losses, label='Training Loss')\n",
    "#plt.title('Training Loss Over Time')\n",
    "plt.xlabel('Time series',fontsize=14)\n",
    "plt.ylabel('Loss',fontsize=14)\n",
    "plt.legend(fontsize=14,loc='upper right')\n",
    "plt.grid()\n",
    "plt.show()\n"
   ]
  },
  {
   "cell_type": "code",
   "execution_count": 34,
   "id": "155bbc77",
   "metadata": {},
   "outputs": [
    {
     "name": "stdout",
     "output_type": "stream",
     "text": [
      "Action 0: Q Value = 15.437142372131348\n",
      "Action 1: Q Value = 23.226581573486328\n",
      "Action 2: Q Value = 0.7319270968437195\n",
      "Action 3: Q Value = 25.49766731262207\n",
      "Action 4: Q Value = -5.699851989746094\n",
      "Action 5: Q Value = 4.756470203399658\n",
      "Action 6: Q Value = 7.823073863983154\n",
      "Action 7: Q Value = 3.984994649887085\n",
      "Action 8: Q Value = -1.537804126739502\n",
      "Action 9: Q Value = -1.7314784526824951\n",
      "Action 10: Q Value = -6.603847980499268\n",
      "Action 11: Q Value = -0.32969555258750916\n",
      "Action 12: Q Value = 1.343285083770752\n",
      "Action 13: Q Value = 1.58223557472229\n",
      "Action 14: Q Value = -0.30653926730155945\n",
      "Action 15: Q Value = 3.2815942764282227\n",
      "Action 16: Q Value = 2.0745835304260254\n",
      "Action 17: Q Value = -1.5883526802062988\n",
      "Action 18: Q Value = -5.737996578216553\n",
      "Action 19: Q Value = 23.038362503051758\n"
     ]
    },
    {
     "data": {
      "image/png": "[encoded data removed]",
      "text/plain": [
       "<Figure size 800x300 with 1 Axes>"
      ]
     },
     "metadata": {},
     "output_type": "display_data"
    }
   ],
   "source": [
    "state_tensor = torch.FloatTensor(samples_df.iloc[380]['State']).unsqueeze(0)  \n",
    "policy_net.eval()  \n",
    "with torch.no_grad():  \n",
    "    q_values = policy_net(state_tensor)\n",
    "\n",
    "with torch.no_grad():\n",
    "    q_values = policy_net(state_tensor).squeeze()\n",
    "    for action, q_value in enumerate(q_values.tolist()):\n",
    "        print(f\"Action {action}: Q Value = {q_value}\")\n",
    "\n",
    "\n",
    "actions = range(20) \n",
    "plt.figure(figsize=(8,3))\n",
    "plt.bar([i+1 for i in actions], q_values, color='skyblue')\n",
    "plt.title('Q Values for Each Action')\n",
    "plt.xlabel('LLC ways')\n",
    "plt.ylabel('Q Value')\n",
    "plt.xticks([i+1 for i in actions])  \n",
    "#plt.grid(axis='y', linestyle='--', alpha=0.6)\n",
    "plt.grid()\n",
    "plt.show()\n"
   ]
  },
  {
   "cell_type": "code",
   "execution_count": 26,
   "id": "576bc4f3",
   "metadata": {},
   "outputs": [],
   "source": [
    "for index, row in samples_df.iterrows():\n",
    "\n",
    "    # Extract and convert the state, action, next state, and reward from the row\n",
    "    state = torch.FloatTensor(row['State'])\n",
    "    next_state = torch.FloatTensor(row['Next State'])\n"
   ]
  },
  {
   "cell_type": "markdown",
   "id": "46a486b5",
   "metadata": {},
   "source": [
    "# offline test"
   ]
  },
  {
   "cell_type": "code",
   "execution_count": 81,
   "id": "d58299aa",
   "metadata": {},
   "outputs": [],
   "source": [
    "#generate samples\n",
    "samples=[]\n",
    "scaler = StandardScaler()\n",
    "for i in range(len(df) - 1):  \n",
    "   # state = df.loc[i, state_columns].values.tolist()\n",
    "    state = state_space_scaled[i]\n",
    "    action = df.loc[i, action_column].values.tolist()\n",
    "    next_state = state_space_scaled[i + 1]\n",
    "    next_action = df.loc[i + 1, action_column].values.tolist()\n",
    "    reward = df.loc[i, 'throughput']*df.loc[i, 'throughput']  -df.loc[i, 'latency']/1000000\n",
    "\n",
    "    samples.append((state, action, next_state, next_action, reward))\n",
    "samples_df = pd.DataFrame(samples, columns=['State', 'Action', 'Next State', 'Next Action', 'Reward'])"
   ]
  },
  {
   "cell_type": "code",
   "execution_count": 96,
   "id": "e7b0335f",
   "metadata": {
    "scrolled": true
   },
   "outputs": [
    {
     "name": "stdout",
     "output_type": "stream",
     "text": [
      "Average Reward: 22.32\n"
     ]
    }
   ],
   "source": [
    "total_reward = 0\n",
    "correct_actions = 0\n",
    "num_samples = len(samples_df)\n",
    "predicted_actions_list = [] \n",
    "for index, row in samples_df.iterrows():\n",
    "\n",
    "    # Extract and convert the state, action, next state, and reward from the row\n",
    "    state = torch.FloatTensor(row['State'])\n",
    "   # print(state)\n",
    "    next_state = torch.FloatTensor(row['Next State'])\n",
    "    action = torch.LongTensor([int(row['Action'][0])-1])\n",
    "    reward = torch.FloatTensor([row['Reward']])\n",
    "   # print(reward)\n",
    "    with torch.no_grad():\n",
    "        action_values = policy_net(state)\n",
    "       # print(action_values)\n",
    "    predicted_action = action_values.argmax().item()\n",
    "    predicted_actions_list.append(predicted_action) \n",
    "    \n",
    "    if predicted_action == action:\n",
    "        correct_actions += 1\n",
    "\n",
    "    # total reward\n",
    "    total_reward += reward\n",
    "average_reward = total_reward / num_samples\n",
    "accuracy = correct_actions / num_samples\n",
    "\n",
    "if torch.is_tensor(average_reward):\n",
    "    average_reward = average_reward.item()\n",
    "if torch.is_tensor(accuracy):\n",
    "    accuracy = accuracy.item()\n",
    "\n",
    "print(f\"Average Reward: {average_reward:.2f}\")\n"
   ]
  },
  {
   "cell_type": "markdown",
   "id": "507a0033",
   "metadata": {},
   "source": [
    "# compare with FSM (finite state machine)"
   ]
  },
  {
   "cell_type": "code",
   "execution_count": 111,
   "id": "82545cd2",
   "metadata": {},
   "outputs": [],
   "source": [
    "from enum import Enum, auto\n",
    "\n",
    "class State(Enum):\n",
    "    LOW_KEEP = auto()\n",
    "    HIGH_KEEP = auto()\n",
    "    IO_DEMAND = auto()\n",
    "    CORE_DEMAND = auto()\n",
    "    RECLAIM = auto()\n",
    "\n",
    "# Constants for thresholds and LLC ways\n",
    "DDIO_WAYS_MIN = 1\n",
    "DDIO_WAYS_MAX = 10  \n",
    "THRESHOLD_MISS_LOW = 100000  "
   ]
  },
  {
   "cell_type": "code",
   "execution_count": 114,
   "id": "7017827c",
   "metadata": {},
   "outputs": [],
   "source": [
    "class IAT_FSM:\n",
    "    def __init__(self):\n",
    "        self.state = State.LOW_KEEP\n",
    "        self.llc_ways_ddio = DDIO_WAYS_MIN  # Starting with minimum allocation\n",
    "        self.previous_ddio_hit = None\n",
    "        self.previous_llc_reference = None\n",
    "    \n",
    "    def transition(self, ddio_miss, ddio_hit, llc_reference):\n",
    "        # Example for transitioning from LOW_KEEP state\n",
    "        if self.state == State.LOW_KEEP:\n",
    "            if ddio_miss > THRESHOLD_MISS_LOW:\n",
    "                ddio_hit_decreases = self.previous_ddio_hit is not None and ddio_hit < self.previous_ddio_hit\n",
    "                llc_reference_increases = self.previous_llc_reference is not None and llc_reference > self.previous_llc_reference\n",
    "                \n",
    "                if ddio_hit_decreases and llc_reference_increases:\n",
    "                    self.state = State.CORE_DEMAND\n",
    "                else:\n",
    "                    self.state = State.IO_DEMAND\n",
    "        \n",
    "        # Remember to update the previous values at the end of the transition check\n",
    "        self.previous_ddio_hit = ddio_hit\n",
    "        self.previous_llc_reference = llc_reference\n",
    "        \n",
    "        # Add similar checks for other state transitions\n",
    "        \n",
    "    def allocate_llc_ways(self):\n",
    "        # Based on the current state, allocate LLC ways\n",
    "        if self.state == State.LOW_KEEP:\n",
    "            self.llc_ways_ddio = DDIO_WAYS_MIN\n",
    "        elif self.state == State.HIGH_KEEP:\n",
    "            self.llc_ways_ddio = DDIO_WAYS_MAX\n",
    "        # Define allocation logic for other states\n"
   ]
  },
  {
   "cell_type": "code",
   "execution_count": 115,
   "id": "82d532f4",
   "metadata": {},
   "outputs": [
    {
     "name": "stdout",
     "output_type": "stream",
     "text": [
      "Current State: State.LOW_KEEP, LLC Ways for DDIO: 1\n"
     ]
    }
   ],
   "source": [
    "# Example usage\n",
    "iat_fsm = IAT_FSM()\n",
    "\n",
    "# Simulate receiving data from Poll Prof Data\n",
    "ddio_miss_count = 120  # Example data\n",
    "ddio_hit_count = 80    # Example data\n",
    "llc_reference_count = 150  # Example data\n",
    "\n",
    "iat_fsm.transition(ddio_miss_count, ddio_hit_count, llc_reference_count)\n",
    "iat_fsm.allocate_llc_ways()\n",
    "\n",
    "print(f\"Current State: {iat_fsm.state}, LLC Ways for DDIO: {iat_fsm.llc_ways_ddio}\")\n"
   ]
  },
  {
   "cell_type": "code",
   "execution_count": 116,
   "id": "642a50c9",
   "metadata": {},
   "outputs": [
    {
     "name": "stdout",
     "output_type": "stream",
     "text": [
      "Step 0: Throughput=1000, L3MISS=9000, LLC Ways=5 (No Change)\n",
      "Step 1: Throughput=950, L3MISS=12000, LLC Ways=5 (No Change)\n",
      "Step 2: Throughput=900, L3MISS=8000, LLC Ways=5 (No Change)\n",
      "Step 3: Throughput=850, L3MISS=13000, LLC Ways=5 (No Change)\n",
      "Step 4: Throughput=500, L3MISS=70000, LLC Ways=6 (Increased)\n"
     ]
    }
   ],
   "source": [
    "previous_throughput = throughput_data[0]  # Initialize with the first value\n",
    "\n",
    "for i in range(len(throughput_data)):\n",
    "    current_throughput = throughput_data[i]\n",
    "    current_l3miss = l3miss_data[i]\n",
    "    \n",
    "    # Apply FSM logic\n",
    "    new_llc_ways, action_taken = fsm_logic(current_throughput, previous_throughput, current_l3miss, current_llc_ways)\n",
    "    \n",
    "    print(f\"Step {i}: Throughput={current_throughput}, L3MISS={current_l3miss}, LLC Ways={new_llc_ways} ({action_taken})\")\n",
    "    \n",
    "    # Update for next iteration\n",
    "    current_llc_ways = new_llc_ways\n",
    "    previous_throughput = current_throughput\n"
   ]
  },
  {
   "cell_type": "code",
   "execution_count": null,
   "id": "f9ae9506",
   "metadata": {},
   "outputs": [],
   "source": []
  }
 ],
 "metadata": {
  "kernelspec": {
   "display_name": "Python 3 (ipykernel)",
   "language": "python",
   "name": "python3"
  },
  "language_info": {
   "codemirror_mode": {
    "name": "ipython",
    "version": 3
   },
   "file_extension": ".py",
   "mimetype": "text/x-python",
   "name": "python",
   "nbconvert_exporter": "python",
   "pygments_lexer": "ipython3",
   "version": "3.10.9"
  }
 },
 "nbformat": 4,
 "nbformat_minor": 5
}
