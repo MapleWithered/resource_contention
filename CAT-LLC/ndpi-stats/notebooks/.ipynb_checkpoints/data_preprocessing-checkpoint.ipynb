{
 "cells": [
  {
   "cell_type": "markdown",
   "id": "dce3a2b4",
   "metadata": {},
   "source": [
    "# combine header for pcm"
   ]
  },
  {
   "cell_type": "code",
   "execution_count": 1,
   "id": "5115c468",
   "metadata": {},
   "outputs": [],
   "source": [
    "import csv"
   ]
  },
  {
   "cell_type": "code",
   "execution_count": 2,
   "id": "b667caff",
   "metadata": {},
   "outputs": [],
   "source": [
    "vnf=f'ndpi_stats'"
   ]
  },
  {
   "cell_type": "code",
   "execution_count": 3,
   "id": "d775e0ab",
   "metadata": {},
   "outputs": [],
   "source": [
    "def combine_csv_headers(input_file_path, output_file_path):\n",
    "    with open(input_file_path, newline='') as input_csvfile:\n",
    "        reader = csv.reader(input_csvfile)\n",
    "        first_header = next(reader)\n",
    "        second_header = next(reader)\n",
    "        combined_header = [f\"{a}-{b}\" for a, b in zip(first_header, second_header)]\n",
    "\n",
    "        with open(output_file_path, 'w', newline='') as output_csvfile:\n",
    "            writer = csv.writer(output_csvfile)\n",
    "\n",
    "            # Write the new header\n",
    "            writer.writerow(combined_header)\n",
    "\n",
    "            # Write the rest of the lines\n",
    "            for row in reader:\n",
    "                writer.writerow(row)\n",
    "\n",
    "    print(f\"new_file：{output_file_path}\")\n",
    "\n"
   ]
  },
  {
   "cell_type": "code",
   "execution_count": 4,
   "id": "ccc08b72",
   "metadata": {},
   "outputs": [
    {
     "name": "stdout",
     "output_type": "stream",
     "text": [
      "0x1\n",
      "new_file：..\\data\\ONVM-nDPI-stats\\0x1\\ndpi_stats-pcm_new.csv\n",
      "0x10\n",
      "new_file：..\\data\\ONVM-nDPI-stats\\0x10\\ndpi_stats-pcm_new.csv\n",
      "0x10000\n",
      "new_file：..\\data\\ONVM-nDPI-stats\\0x10000\\ndpi_stats-pcm_new.csv\n",
      "0x2\n",
      "new_file：..\\data\\ONVM-nDPI-stats\\0x2\\ndpi_stats-pcm_new.csv\n",
      "0x3\n",
      "new_file：..\\data\\ONVM-nDPI-stats\\0x3\\ndpi_stats-pcm_new.csv\n",
      "0x6\n",
      "new_file：..\\data\\ONVM-nDPI-stats\\0x6\\ndpi_stats-pcm_new.csv\n",
      "0xf\n",
      "new_file：..\\data\\ONVM-nDPI-stats\\0xf\\ndpi_stats-pcm_new.csv\n",
      "0xfffff\n",
      "new_file：..\\data\\ONVM-nDPI-stats\\0xfffff\\ndpi_stats-pcm_new.csv\n"
     ]
    }
   ],
   "source": [
    "for i in [1,10,10000,2,3,6,\"f\",\"fffff\"]:\n",
    "    exp_ls = f'0x{i}'\n",
    "    print(exp_ls)\n",
    "    input_file_path = f'..\\\\data\\\\ONVM-nDPI-stats\\\\{exp_ls}\\\\{vnf}-pcm.csv'\n",
    "    output_file_path = f'..\\\\data\\\\ONVM-nDPI-stats\\\\{exp_ls}\\\\{vnf}-pcm_new.csv'\n",
    "    combine_csv_headers(input_file_path, output_file_path)\n",
    "\n"
   ]
  },
  {
   "cell_type": "markdown",
   "id": "7b3ecffa",
   "metadata": {},
   "source": [
    "# pcie"
   ]
  },
  {
   "cell_type": "code",
   "execution_count": 28,
   "id": "53d43d56",
   "metadata": {},
   "outputs": [
    {
     "name": "stdout",
     "output_type": "stream",
     "text": [
      "0xfffff\n"
     ]
    }
   ],
   "source": [
    "print(exp_ls)\n",
    "exp_ls=\"0x3\""
   ]
  },
  {
   "cell_type": "code",
   "execution_count": 29,
   "id": "61121f0c",
   "metadata": {},
   "outputs": [],
   "source": [
    "import csv\n",
    "\n",
    "def process_csv(input_file, output_file):\n",
    "    with open(input_file, 'r') as file:\n",
    "        reader = csv.reader(file)\n",
    "        rows = list(reader)\n",
    "\n",
    "    new_header = [f'skt-0_{h}' for h in rows[0]] \n",
    "\n",
    "    if 'skt-0_Skt' in new_header:\n",
    "        index_to_remove = new_header.index('skt-0_Skt')\n",
    "    else:\n",
    "        index_to_remove = None\n",
    "\n",
    "    reshaped_rows = []\n",
    "    for row in rows[1::2]: \n",
    "        if index_to_remove is not None:\n",
    "            row.pop(index_to_remove)  \n",
    "        reshaped_rows.append(row)\n",
    "\n",
    "    if index_to_remove is not None:\n",
    "        new_header.pop(index_to_remove)\n",
    "\n",
    "    with open(output_file, 'w', newline='') as file:\n",
    "        writer = csv.writer(file)\n",
    "        writer.writerow(new_header)  \n",
    "        writer.writerows(reshaped_rows)  \n",
    "    return output_file\n"
   ]
  },
  {
   "cell_type": "code",
   "execution_count": 30,
   "id": "cb2a2889",
   "metadata": {},
   "outputs": [],
   "source": [
    "input_file_path = f'..\\\\data\\\\ONVM-nDPI-stats\\\\{exp_ls}\\\\pcm-pcie.csv'\n",
    "output_file_path = f'..\\\\data\\\\ONVM-nDPI-stats\\\\{exp_ls}\\\\pcm-pcie_new.csv'\n",
    "processed_file = process_csv(input_file_path, output_file_path)"
   ]
  },
  {
   "cell_type": "code",
   "execution_count": 31,
   "id": "9a35a852",
   "metadata": {},
   "outputs": [
    {
     "name": "stdout",
     "output_type": "stream",
     "text": [
      "0x1\n",
      "0x10\n",
      "0x10000\n",
      "0x2\n",
      "0x3\n",
      "0x6\n",
      "0xf\n",
      "0xfffff\n"
     ]
    }
   ],
   "source": [
    "for i in [1,10,10000,2,3,6,\"f\",\"fffff\"]:\n",
    "    exp_ls = f'0x{i}'\n",
    "    print(exp_ls)\n",
    "    input_file_path = f'..\\\\data\\\\ONVM-nDPI-stats\\\\{exp_ls}\\\\pcm-pcie.csv'\n",
    "    output_file_path = f'..\\\\data\\\\ONVM-nDPI-stats\\\\{exp_ls}\\\\pcm-pcie_new.csv'\n",
    "    processed_file = process_csv(input_file_path, output_file_path)"
   ]
  },
  {
   "cell_type": "markdown",
   "id": "47d937ad",
   "metadata": {},
   "source": [
    "# memory"
   ]
  },
  {
   "cell_type": "code",
   "execution_count": 32,
   "id": "93a447d8",
   "metadata": {},
   "outputs": [],
   "source": [
    "def combine_csv_headers(input_file_path, output_file_path):\n",
    "    with open(input_file_path, newline='') as input_csvfile:\n",
    "        reader = csv.reader(input_csvfile)\n",
    "        first_header = next(reader)\n",
    "        second_header = next(reader)\n",
    "        combined_header = [f\"{a}-{b}\" for a, b in zip(first_header, second_header)]\n",
    "\n",
    "        with open(output_file_path, 'w', newline='') as output_csvfile:\n",
    "            writer = csv.writer(output_csvfile)\n",
    "\n",
    "            # Write the new header\n",
    "            writer.writerow(combined_header)\n",
    "\n",
    "            # Write the rest of the lines\n",
    "            for row in reader:\n",
    "                writer.writerow(row)\n",
    "\n",
    "    print(f\"new_file：{output_file_path}\")\n"
   ]
  },
  {
   "cell_type": "code",
   "execution_count": 33,
   "id": "e57a13eb",
   "metadata": {},
   "outputs": [
    {
     "name": "stdout",
     "output_type": "stream",
     "text": [
      "0x1\n",
      "new_file：..\\data\\ONVM-nDPI-stats\\0x1\\pcm-memory_new.csv\n",
      "0x10\n",
      "new_file：..\\data\\ONVM-nDPI-stats\\0x10\\pcm-memory_new.csv\n",
      "0x10000\n",
      "new_file：..\\data\\ONVM-nDPI-stats\\0x10000\\pcm-memory_new.csv\n",
      "0x2\n",
      "new_file：..\\data\\ONVM-nDPI-stats\\0x2\\pcm-memory_new.csv\n",
      "0x3\n",
      "new_file：..\\data\\ONVM-nDPI-stats\\0x3\\pcm-memory_new.csv\n",
      "0x6\n",
      "new_file：..\\data\\ONVM-nDPI-stats\\0x6\\pcm-memory_new.csv\n",
      "0xf\n",
      "new_file：..\\data\\ONVM-nDPI-stats\\0xf\\pcm-memory_new.csv\n",
      "0xfffff\n",
      "new_file：..\\data\\ONVM-nDPI-stats\\0xfffff\\pcm-memory_new.csv\n"
     ]
    }
   ],
   "source": [
    "for i in [1,10,10000,2,3,6,\"f\",\"fffff\"]:\n",
    "    exp_ls = f'0x{i}'\n",
    "    print(exp_ls)\n",
    "    input_file_path = f'..\\\\data\\\\ONVM-nDPI-stats\\\\{exp_ls}\\\\pcm-memory.csv'\n",
    "    output_file_path = f'..\\\\data\\\\ONVM-nDPI-stats\\\\{exp_ls}\\\\pcm-memory_new.csv'\n",
    "    combine_csv_headers(input_file_path, output_file_path)"
   ]
  },
  {
   "cell_type": "code",
   "execution_count": 34,
   "id": "ea52aca7",
   "metadata": {},
   "outputs": [],
   "source": [
    "import csv\n",
    "\n",
    "def remove_columns_and_empty_values(input_file, output_file):\n",
    "    with open(input_file, 'r') as file:\n",
    "        reader = csv.reader(file)\n",
    "        rows = list(reader)\n",
    "\n",
    "    if not rows:\n",
    "        raise ValueError(\"CSV file is empty\")\n",
    "\n",
    "    # Find the index of the columns to be removed\n",
    "    header = rows[0]\n",
    "    num_columns = len(header)\n",
    "    indices_to_remove = [i for i, h in enumerate(header) if h.lower() in ['-date', '-time'] or all((len(row) > i and row[i] == '') for row in rows[1:])]\n",
    "\n",
    "    # Remove the specified columns from the header and rows\n",
    "    updated_header = [h for i, h in enumerate(header) if i not in indices_to_remove]\n",
    "    updated_rows = [[item for i, item in enumerate(row[:num_columns]) if i not in indices_to_remove] for row in rows[1:]]\n",
    "\n",
    "    # Write the updated data to the output file\n",
    "    with open(output_file, 'w', newline='') as file:\n",
    "        writer = csv.writer(file)\n",
    "        writer.writerow(updated_header)  # Write the updated header\n",
    "        writer.writerows(updated_rows)  # Write the updated data rows\n",
    "\n",
    "    return output_file\n"
   ]
  },
  {
   "cell_type": "code",
   "execution_count": 35,
   "id": "ef704a6d",
   "metadata": {},
   "outputs": [
    {
     "name": "stdout",
     "output_type": "stream",
     "text": [
      "0x1\n",
      "0x10\n",
      "0x10000\n",
      "0x2\n",
      "0x3\n",
      "0x6\n",
      "0xf\n",
      "0xfffff\n"
     ]
    }
   ],
   "source": [
    "for i in [1,10,10000,2,3,6,\"f\",\"fffff\"]:\n",
    "    exp_ls = f'0x{i}'\n",
    "    print(exp_ls)\n",
    "    input_file_path = f'..\\\\data\\\\ONVM-nDPI-stats\\\\{exp_ls}\\\\pcm-memory_new.csv'\n",
    "    output_file_path = f'..\\\\data\\\\ONVM-nDPI-stats\\\\{exp_ls}\\\\pcm-memory_new.csv'\n",
    "    remove_columns_and_empty_values(input_file_path, output_file_path)\n"
   ]
  },
  {
   "cell_type": "markdown",
   "id": "3ee86f50",
   "metadata": {},
   "source": [
    "# extract traffic and latency information"
   ]
  },
  {
   "cell_type": "code",
   "execution_count": 36,
   "id": "84bc9db7",
   "metadata": {},
   "outputs": [],
   "source": [
    "exp_ls=f'0x10'"
   ]
  },
  {
   "cell_type": "code",
   "execution_count": 37,
   "id": "4d32bf53",
   "metadata": {},
   "outputs": [
    {
     "name": "stdout",
     "output_type": "stream",
     "text": [
      "(5.66, 4.78, 7420799.4)\n"
     ]
    }
   ],
   "source": [
    "import re\n",
    "\n",
    "def extract_specific_data(file_path):\n",
    "    # Regular expression patterns for required data\n",
    "    tx_pattern = r\"\\[Device: id=0\\] TX: ([\\d.]+)\"\n",
    "    rx_pattern = r\"\\[Device: id=1\\] RX: ([\\d.]+)\"\n",
    "    stddev_rx_pattern = r\"\\[Device: id=1\\] RX: [\\d.]+ \\(StdDev ([\\d.]+)\\)\"  # Adjusted pattern\n",
    "    average_pattern = r\"Average: ([\\d.]+) ns\"\n",
    "\n",
    "    # Variables to store the extracted data\n",
    "    tx_value, rx_value, stddev_rx, average = None, None, None, None\n",
    "\n",
    "    # Read the text file\n",
    "    with open(file_path, 'r') as file:\n",
    "        for line in file:\n",
    "            if tx_match := re.search(tx_pattern, line):\n",
    "                tx_value = round(float(tx_match.group(1)), 2)\n",
    "            elif rx_match := re.search(rx_pattern, line):\n",
    "                rx_value = round(float(rx_match.group(1)), 2)\n",
    "            elif stddev_rx_match := re.search(stddev_rx_pattern, line):\n",
    "                stddev_rx = round(float(stddev_rx_match.group(1)), 2)\n",
    "            elif average_match := re.search(average_pattern, line):\n",
    "                average = round(float(average_match.group(1)), 2)\n",
    "\n",
    "    return tx_value, rx_value, average\n",
    "\n",
    "\n",
    "\n",
    "# Usage example\n",
    "input_file_path = f'..\\\\data\\\\ONVM-nDPI-stats\\\\{exp_ls}\\\\traffic_profile.txt'\n",
    "data =  extract_specific_data(input_file_path)\n",
    "print(data)\n"
   ]
  },
  {
   "cell_type": "code",
   "execution_count": 38,
   "id": "450c345b",
   "metadata": {},
   "outputs": [
    {
     "name": "stdout",
     "output_type": "stream",
     "text": [
      "0x10\n"
     ]
    }
   ],
   "source": [
    "print(exp_ls)"
   ]
  },
  {
   "cell_type": "code",
   "execution_count": null,
   "id": "6aa6e903",
   "metadata": {},
   "outputs": [],
   "source": []
  }
 ],
 "metadata": {
  "kernelspec": {
   "display_name": "Python 3 (ipykernel)",
   "language": "python",
   "name": "python3"
  },
  "language_info": {
   "codemirror_mode": {
    "name": "ipython",
    "version": 3
   },
   "file_extension": ".py",
   "mimetype": "text/x-python",
   "name": "python",
   "nbconvert_exporter": "python",
   "pygments_lexer": "ipython3",
   "version": "3.10.9"
  }
 },
 "nbformat": 4,
 "nbformat_minor": 5
}
