{
 "cells": [
  {
   "cell_type": "code",
   "execution_count": 29,
   "id": "9939eb58",
   "metadata": {},
   "outputs": [],
   "source": [
    "import pandas as pd\n",
    "import os, re\n",
    "import csv\n",
    "import numpy as np"
   ]
  },
  {
   "cell_type": "code",
   "execution_count": 30,
   "id": "c2b78803",
   "metadata": {},
   "outputs": [],
   "source": [
    "import matplotlib.pyplot as plt\n",
    "%matplotlib inline\n",
    "\n",
    "plt.rc('font', family='serif')\n",
    "plt.rcParams.update({'font.size': 11})\n",
    "\n",
    "plt.rcParams['figure.dpi'] = 200\n",
    "plt.rcParams['savefig.dpi'] = 300"
   ]
  },
  {
   "cell_type": "code",
   "execution_count": 32,
   "id": "fa7dad89",
   "metadata": {},
   "outputs": [],
   "source": [
    "# Metadata for specific SFC configurations\n",
    "exp_ls = \"0x1\"\n"
   ]
  },
  {
   "cell_type": "code",
   "execution_count": 33,
   "id": "46d1626e",
   "metadata": {},
   "outputs": [],
   "source": [
    "def print_headers(exp_type, exp_num, file):\n",
    "    file_path = os.path.join(\"..\\\\data\", exp_type, exp_num, file)\n",
    "\n",
    "    with open(file_path, newline='') as csvfile:\n",
    "        reader = csv.reader(csvfile)\n",
    "        headers = next(reader)  \n",
    "        print(\"header：\", headers)\n",
    "    return headers\n",
    "\n",
    "\n",
    "#print_headers(\"fixed_rate\", exp_ls, \"bridge-pcm-new.csv\")\n"
   ]
  },
  {
   "cell_type": "code",
   "execution_count": 34,
   "id": "ca5059ab",
   "metadata": {},
   "outputs": [],
   "source": [
    "def parse_seq(exp_type, exp_num, file, index=5):\n",
    "    \"Parse sequential data, specialized for the TX/RX/Latency experiments\"\n",
    "    tmp = []\n",
    "    \n",
    "    if file.startswith(\"latency.csv\"):\n",
    "        with open(os.path.join(\"..\\\\data\", exp_type, exp_num, file)) as f:\n",
    "            lines = f.readlines()[4:] if exp_type == \"ONVM-nDPI-stats\" else f.readlines()\n",
    "            for i in range(len(lines)):\n",
    "                try:\n",
    "                    value = float(lines[i].strip()) / 1000\n",
    "                except ValueError:\n",
    "                    value= np.nan\n",
    "                tmp.append(value)\n",
    "    else:\n",
    "        with open(os.path.join(\"..\\\\data\", exp_type, exp_num, file)) as f:\n",
    "            next(f)\n",
    "            for l in f:\n",
    "                try:\n",
    "                    value = float(l.strip().split(\",\")[index])\n",
    "                except ValueError:\n",
    "                    value = np.nan\n",
    "                tmp.append(value)\n",
    "                \n",
    "    return tmp"
   ]
  },
  {
   "cell_type": "code",
   "execution_count": 35,
   "id": "e0838e55",
   "metadata": {},
   "outputs": [],
   "source": [
    "def parse_reg(exp_type, exp_num, file, stat_name):\n",
    "    stat = []\n",
    "    file_path = os.path.join(\"..\\\\data\", exp_type, exp_num, file)\n",
    "\n",
    "    with open(file_path, newline='') as csvfile:\n",
    "        reader = csv.reader(csvfile)\n",
    "        headers = next(reader)\n",
    "        try:\n",
    "            index = headers.index(stat_name)\n",
    "        except ValueError:\n",
    "            print(f\"Column {stat_name} not found\")\n",
    "            return stat\n",
    "        for row in reader:\n",
    "            if len(row) <= index: \n",
    "                continue  \n",
    "\n",
    "            raw_value = row[index]\n",
    "            try:\n",
    "                value = float(raw_value)\n",
    "            except ValueError:\n",
    "                value = raw_value\n",
    "            stat.append(value)\n",
    "\n",
    "\n",
    "    return stat"
   ]
  },
  {
   "cell_type": "code",
   "execution_count": 36,
   "id": "2069d7f7",
   "metadata": {},
   "outputs": [
    {
     "name": "stdout",
     "output_type": "stream",
     "text": [
      "299\n"
     ]
    }
   ],
   "source": [
    "bridge_L3MISS = parse_reg(\"ONVM-nDPI-stats\", exp_ls,  \"ndpi_stats-pcm_new.csv\", \"Socket 0-L3HIT\")\n",
    "print(len(bridge_L3MISS))"
   ]
  },
  {
   "cell_type": "code",
   "execution_count": 37,
   "id": "486f96ae",
   "metadata": {},
   "outputs": [
    {
     "name": "stdout",
     "output_type": "stream",
     "text": [
      "header： ['System-Date', 'System-Time', 'Socket 0-EXEC', 'Socket 0-IPC', 'Socket 0-FREQ', 'Socket 0-AFREQ', 'Socket 0-L3MISS', 'Socket 0-L2MISS', 'Socket 0-L3HIT', 'Socket 0-L2HIT', 'Socket 0-L3MPI', 'Socket 0-L2MPI', 'Socket 0-L3OCC', 'Socket 0-LMB', 'Socket 0-RMB', 'Socket 0-READ', 'Socket 0-WRITE', 'Socket 0-LOCAL', 'Socket 0-TEMP', 'Socket 0-INST', 'Socket 0-ACYC', 'Socket 0-TIME(ticks)', 'Socket 0-PhysIPC', 'Socket 0-PhysIPC%', 'Socket 0-INSTnom', 'Socket 0-INSTnom%', 'SKT0 Core C-State-C0res%', 'SKT0 Core C-State-C1res%', 'SKT0 Core C-State-C3res%', 'SKT0 Core C-State-C6res%', 'SKT0 Core C-State-C7res%', 'SKT0 Package C-State-C0res%', 'SKT0 Package C-State-C2res%', 'SKT0 Package C-State-C3res%', 'SKT0 Package C-State-C6res%', 'SKT0 Package C-State-C7res%', 'Proc Energy (Joules)-SKT0', 'DRAM Energy (Joules)-SKT0', 'LLCRDMISSLAT (ns)-SKT0', 'UncFREQ (Ghz)-SKT0', 'Core3 (Socket 0)-EXEC', 'Core3 (Socket 0)-IPC', 'Core3 (Socket 0)-FREQ', 'Core3 (Socket 0)-AFREQ', 'Core3 (Socket 0)-L3MISS', 'Core3 (Socket 0)-L2MISS', 'Core3 (Socket 0)-L3HIT', 'Core3 (Socket 0)-L2HIT', 'Core3 (Socket 0)-L3MPI', 'Core3 (Socket 0)-L2MPI', 'Core3 (Socket 0)-L3OCC', 'Core3 (Socket 0)-LMB', 'Core3 (Socket 0)-RMB', 'Core3 (Socket 0)-C0res%', 'Core3 (Socket 0)-C1res%', 'Core3 (Socket 0)-C3res%', 'Core3 (Socket 0)-C6res%', 'Core3 (Socket 0)-C7res%', 'Core3 (Socket 0)-TEMP', 'Core3 (Socket 0)-INST', 'Core3 (Socket 0)-ACYC', 'Core3 (Socket 0)-TIME(ticks)', 'Core3 (Socket 0)-PhysIPC', 'Core3 (Socket 0)-PhysIPC%', 'Core3 (Socket 0)-INSTnom', 'Core3 (Socket 0)-INSTnom%', '-']\n"
     ]
    }
   ],
   "source": [
    "features = print_headers(\"ONVM-nDPI-stats\", exp_ls,  \"ndpi_stats-pcm_new.csv\")"
   ]
  },
  {
   "cell_type": "code",
   "execution_count": 38,
   "id": "840e88ca",
   "metadata": {},
   "outputs": [
    {
     "name": "stdout",
     "output_type": "stream",
     "text": [
      "header： ['skt-0_PCIRdCur', 'skt-0_RFO', 'skt-0_CRd', 'skt-0_DRd', 'skt-0_ItoM', 'skt-0_PRd', 'skt-0_WiL', 'skt-1_PCIRdCur', 'skt-1_RFO', 'skt-1_CRd', 'skt-1_DRd', 'skt-1_ItoM', 'skt-1_PRd', 'skt-1_WiL']\n"
     ]
    }
   ],
   "source": [
    "features_pcie = print_headers(\"ONVM-nDPI-stats\", exp_ls,   \"pcm-pcie_new.csv\")"
   ]
  },
  {
   "cell_type": "code",
   "execution_count": 39,
   "id": "0b1fe281",
   "metadata": {},
   "outputs": [
    {
     "name": "stdout",
     "output_type": "stream",
     "text": [
      "header： ['SKT0-Ch0Read', 'SKT0-Ch0Write', 'SKT0-Ch1Read', 'SKT0-Ch1Write', 'SKT0-Ch2Read', 'SKT0-Ch2Write', 'SKT0-Ch3Read', 'SKT0-Ch3Write', 'SKT0-Mem Read (MB/s)', 'SKT0-Mem Write (MB/s)', 'SKT0-P. Write (T/s)', 'SKT0-Memory (MB/s)', 'System-Read', 'System-Write', 'System-Memory']\n"
     ]
    }
   ],
   "source": [
    "features_memory = print_headers(\"ONVM-nDPI-stats\", exp_ls, \"pcm-memory_new.csv\")"
   ]
  },
  {
   "cell_type": "code",
   "execution_count": 40,
   "id": "ad841f6e",
   "metadata": {},
   "outputs": [],
   "source": [
    "Infos=[\"ndpi_stats-pcm_new.csv\"]\n",
    "Infos_pcie = [\"pcm-pcie_new.csv\"]\n",
    "Infos_memory =[\"pcm-memory_new.csv\"]\n",
    "def make_df():\n",
    "    tmp = []\n",
    "    dic = dict()\n",
    "\n",
    "    seq_length = min(len(parse_reg(\"ONVM-nDPI-stats\", exp_ls, \"ndpi_stats-pcm_new.csv\", 'System-Date')), \n",
    "                     len(parse_reg(\"ONVM-nDPI-stats\", exp_ls, \"pcm-pcie_new.csv\", 'skt-0_PCIRdCur')))\n",
    "\n",
    "    for f in features:\n",
    "        for v in Infos:\n",
    "            tmp =parse_reg(\"ONVM-nDPI-stats\", exp_ls, \"ndpi_stats-pcm_new.csv\", f)\n",
    "            tmp = tmp[:seq_length]\n",
    "            if len(tmp) < seq_length:\n",
    "                tmp = np.pad(tmp, (0, seq_length - len(tmp)), mode='constant')\n",
    "            dic[v.split(\".\")[0] + \"_\" + f.replace(\",\", \"\")] = tmp\n",
    "            \n",
    "    for f in features_pcie:\n",
    "        for v in Infos_pcie:\n",
    "            tmp =parse_reg(\"ONVM-nDPI-stats\", exp_ls, \"pcm-pcie_new.csv\", f)\n",
    "            tmp = tmp[:seq_length]\n",
    "            if len(tmp) < seq_length:\n",
    "                tmp = np.pad(tmp, (0, seq_length - len(tmp)), mode='constant')\n",
    "            dic[v.split(\".\")[0] + \"_\" + f.replace(\",\", \"\")] = tmp \n",
    "    for f in features_memory:\n",
    "        for v in Infos_memory:\n",
    "            tmp =parse_reg(\"ONVM-nDPI-stats\", exp_ls, \"pcm-memory_new.csv\", f)\n",
    "            tmp = tmp[:seq_length]\n",
    "            if len(tmp) < seq_length:\n",
    "                tmp = np.pad(tmp, (0, seq_length - len(tmp)), mode='constant')\n",
    "            dic[v.split(\".\")[0] + \"_\" + f.replace(\",\", \"\")] = tmp \n",
    "    \n",
    "    return pd.DataFrame(dic)\n",
    "\n",
    "#bridge_L3MISS = parse_reg(\"fixed_rate\", exp_ls,  \"bridge-pcm.csv\", \"Socket 0-L3HIT\")\n",
    "#print(len(bridge_L3MISS))"
   ]
  },
  {
   "cell_type": "code",
   "execution_count": 41,
   "id": "efeb9943",
   "metadata": {
    "scrolled": true
   },
   "outputs": [],
   "source": [
    "df = make_df()\n"
   ]
  },
  {
   "cell_type": "code",
   "execution_count": 42,
   "id": "3b9de46a",
   "metadata": {},
   "outputs": [
    {
     "name": "stdout",
     "output_type": "stream",
     "text": [
      "    ndpi_stats-pcm_new_System-Date ndpi_stats-pcm_new_System-Time  \\\n",
      "0                       2023-11-28                   14:52:40.335   \n",
      "1                       2023-11-28                   14:52:41.336   \n",
      "2                       2023-11-28                   14:52:42.336   \n",
      "3                       2023-11-28                   14:52:43.336   \n",
      "4                       2023-11-28                   14:52:44.336   \n",
      "..                             ...                            ...   \n",
      "193                     2023-11-28                   14:55:53.356   \n",
      "194                     2023-11-28                   14:55:54.357   \n",
      "195                     2023-11-28                   14:55:55.357   \n",
      "196                     2023-11-28                   14:55:56.357   \n",
      "197                     2023-11-28                   14:55:57.357   \n",
      "\n",
      "     ndpi_stats-pcm_new_Socket 0-EXEC  ndpi_stats-pcm_new_Socket 0-IPC  \\\n",
      "0                                0.32                             1.58   \n",
      "1                                0.31                             1.58   \n",
      "2                                0.31                             1.58   \n",
      "3                                0.31                             1.59   \n",
      "4                                0.31                             1.59   \n",
      "..                                ...                              ...   \n",
      "193                              0.32                             1.61   \n",
      "194                              0.32                             1.61   \n",
      "195                              0.32                             1.61   \n",
      "196                              0.32                             1.61   \n",
      "197                              0.32                             1.61   \n",
      "\n",
      "     ndpi_stats-pcm_new_Socket 0-FREQ  ndpi_stats-pcm_new_Socket 0-AFREQ  \\\n",
      "0                                 0.2                               1.30   \n",
      "1                                 0.2                               1.31   \n",
      "2                                 0.2                               1.31   \n",
      "3                                 0.2                               1.31   \n",
      "4                                 0.2                               1.31   \n",
      "..                                ...                                ...   \n",
      "193                               0.2                               1.30   \n",
      "194                               0.2                               1.30   \n",
      "195                               0.2                               1.30   \n",
      "196                               0.2                               1.30   \n",
      "197                               0.2                               1.31   \n",
      "\n",
      "     ndpi_stats-pcm_new_Socket 0-L3MISS  ndpi_stats-pcm_new_Socket 0-L2MISS  \\\n",
      "0                                 46.17                               64.44   \n",
      "1                                 46.23                               64.37   \n",
      "2                                 46.12                               64.27   \n",
      "3                                 46.27                               64.37   \n",
      "4                                 46.12                               64.28   \n",
      "..                                  ...                                 ...   \n",
      "193                               35.00                               53.65   \n",
      "194                               34.97                               53.67   \n",
      "195                               34.96                               53.67   \n",
      "196                               34.92                               53.60   \n",
      "197                               34.98                               53.65   \n",
      "\n",
      "     ndpi_stats-pcm_new_Socket 0-L3HIT  ndpi_stats-pcm_new_Socket 0-L2HIT  \\\n",
      "0                                 0.28                               0.38   \n",
      "1                                 0.28                               0.37   \n",
      "2                                 0.28                               0.37   \n",
      "3                                 0.28                               0.37   \n",
      "4                                 0.28                               0.37   \n",
      "..                                 ...                                ...   \n",
      "193                               0.35                               0.36   \n",
      "194                               0.35                               0.37   \n",
      "195                               0.35                               0.37   \n",
      "196                               0.35                               0.36   \n",
      "197                               0.35                               0.37   \n",
      "\n",
      "     ...  pcm-memory_new_SKT0-Ch2Write  pcm-memory_new_SKT0-Ch3Read  \\\n",
      "0    ...                        277.02                       892.47   \n",
      "1    ...                        279.45                       898.82   \n",
      "2    ...                        278.04                       895.01   \n",
      "3    ...                        280.36                       900.57   \n",
      "4    ...                        278.27                       895.49   \n",
      "..   ...                           ...                          ...   \n",
      "193  ...                        248.64                       665.35   \n",
      "194  ...                        247.93                       664.54   \n",
      "195  ...                        248.07                       664.00   \n",
      "196  ...                        248.26                       663.76   \n",
      "197  ...                        248.19                       665.06   \n",
      "\n",
      "     pcm-memory_new_SKT0-Ch3Write  pcm-memory_new_SKT0-Mem Read (MB/s)  \\\n",
      "0                          290.46                              3339.37   \n",
      "1                          293.09                              3362.55   \n",
      "2                          291.99                              3348.56   \n",
      "3                          293.95                              3370.04   \n",
      "4                          291.89                              3349.98   \n",
      "..                            ...                                  ...   \n",
      "193                        265.03                              2428.74   \n",
      "194                        265.02                              2426.37   \n",
      "195                        264.86                              2426.31   \n",
      "196                        264.95                              2424.22   \n",
      "197                        265.12                              2428.65   \n",
      "\n",
      "     pcm-memory_new_SKT0-Mem Write (MB/s)  pcm-memory_new_SKT0-P. Write (T/s)  \\\n",
      "0                                 1142.08                            126266.0   \n",
      "1                                 1151.88                            126256.0   \n",
      "2                                 1146.51                            126156.0   \n",
      "3                                 1155.12                            126318.0   \n",
      "4                                 1146.99                            126247.0   \n",
      "..                                    ...                                 ...   \n",
      "193                               1034.04                            125403.0   \n",
      "194                               1033.11                            125350.0   \n",
      "195                               1033.67                            125521.0   \n",
      "196                               1033.60                            125374.0   \n",
      "197                               1034.43                            125405.0   \n",
      "\n",
      "     pcm-memory_new_SKT0-Memory (MB/s)  pcm-memory_new_System-Read  \\\n",
      "0                              4481.45                     3339.37   \n",
      "1                              4514.44                     3362.55   \n",
      "2                              4495.07                     3348.56   \n",
      "3                              4525.16                     3370.04   \n",
      "4                              4496.97                     3349.98   \n",
      "..                                 ...                         ...   \n",
      "193                            3462.78                     2428.74   \n",
      "194                            3459.48                     2426.37   \n",
      "195                            3459.98                     2426.31   \n",
      "196                            3457.82                     2424.22   \n",
      "197                            3463.09                     2428.65   \n",
      "\n",
      "     pcm-memory_new_System-Write  pcm-memory_new_System-Memory  \n",
      "0                        1142.08                       4481.45  \n",
      "1                        1151.88                       4514.44  \n",
      "2                        1146.51                       4495.07  \n",
      "3                        1155.12                       4525.16  \n",
      "4                        1146.99                       4496.97  \n",
      "..                           ...                           ...  \n",
      "193                      1034.04                       3462.78  \n",
      "194                      1033.11                       3459.48  \n",
      "195                      1033.67                       3459.98  \n",
      "196                      1033.60                       3457.82  \n",
      "197                      1034.43                       3463.09  \n",
      "\n",
      "[198 rows x 96 columns]\n"
     ]
    }
   ],
   "source": [
    "print(df)"
   ]
  },
  {
   "cell_type": "code",
   "execution_count": 27,
   "id": "1333a439",
   "metadata": {},
   "outputs": [],
   "source": [
    "abs_path = os.path.join(\"..\\\\datasets\", \"ONVM-nDPI-stats_\"+ exp_ls +\".csv\")\n",
    "df.to_csv(abs_path, sep=',')\n"
   ]
  },
  {
   "cell_type": "code",
   "execution_count": 28,
   "id": "df4e75d7",
   "metadata": {},
   "outputs": [
    {
     "name": "stdout",
     "output_type": "stream",
     "text": [
      "0x1\n",
      "0x10\n",
      "0x10000\n",
      "0x2\n",
      "0x3\n",
      "0x6\n",
      "0xf\n",
      "0xfffff\n"
     ]
    }
   ],
   "source": [
    "for i in [1,10,10000,2,3,6,\"f\",\"fffff\"]:\n",
    "    exp_ls = f'0x{i}'\n",
    "    print(exp_ls)\n",
    "    df = make_df()\n",
    "    abs_path = os.path.join(\"..\\\\datasets\", \"ONVM-nDPI-stats_\"+ exp_ls +\".csv\")\n",
    "    df.to_csv(abs_path, sep=',')"
   ]
  }
 ],
 "metadata": {
  "kernelspec": {
   "display_name": "Python 3 (ipykernel)",
   "language": "python",
   "name": "python3"
  },
  "language_info": {
   "codemirror_mode": {
    "name": "ipython",
    "version": 3
   },
   "file_extension": ".py",
   "mimetype": "text/x-python",
   "name": "python",
   "nbconvert_exporter": "python",
   "pygments_lexer": "ipython3",
   "version": "3.10.9"
  }
 },
 "nbformat": 4,
 "nbformat_minor": 5
}
