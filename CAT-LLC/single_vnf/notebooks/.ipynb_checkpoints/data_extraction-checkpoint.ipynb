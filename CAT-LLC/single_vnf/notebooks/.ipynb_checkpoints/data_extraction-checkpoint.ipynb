{
 "cells": [
  {
   "cell_type": "code",
   "execution_count": 1,
   "id": "9939eb58",
   "metadata": {},
   "outputs": [],
   "source": [
    "import pandas as pd\n",
    "import os, re\n",
    "import csv\n",
    "import numpy as np"
   ]
  },
  {
   "cell_type": "code",
   "execution_count": 2,
   "id": "c2b78803",
   "metadata": {},
   "outputs": [],
   "source": [
    "import matplotlib.pyplot as plt\n",
    "%matplotlib inline\n",
    "\n",
    "plt.rc('font', family='serif')\n",
    "plt.rcParams.update({'font.size': 11})\n",
    "\n",
    "plt.rcParams['figure.dpi'] = 200\n",
    "plt.rcParams['savefig.dpi'] = 300"
   ]
  },
  {
   "cell_type": "code",
   "execution_count": 3,
   "id": "fa7dad89",
   "metadata": {},
   "outputs": [],
   "source": [
    "# Metadata for specific SFC configurations\n",
    "exp_ls = \"0x1\"\n"
   ]
  },
  {
   "cell_type": "code",
   "execution_count": 4,
   "id": "46d1626e",
   "metadata": {},
   "outputs": [],
   "source": [
    "def print_headers(exp_type, exp_num, file):\n",
    "    file_path = os.path.join(\"..\\\\data\", exp_type, exp_num, file)\n",
    "\n",
    "    with open(file_path, newline='') as csvfile:\n",
    "        reader = csv.reader(csvfile)\n",
    "        headers = next(reader)  \n",
    "        print(\"header：\", headers)\n",
    "    return headers\n",
    "\n",
    "\n",
    "#print_headers(\"fixed_rate\", exp_ls, \"bridge-pcm-new.csv\")\n"
   ]
  },
  {
   "cell_type": "code",
   "execution_count": 5,
   "id": "ca5059ab",
   "metadata": {},
   "outputs": [],
   "source": [
    "def parse_seq(exp_type, exp_num, file, index=5):\n",
    "    \"Parse sequential data, specialized for the TX/RX/Latency experiments\"\n",
    "    tmp = []\n",
    "    \n",
    "    if file.startswith(\"latency.csv\"):\n",
    "        with open(os.path.join(\"..\\\\data\", exp_type, exp_num, file)) as f:\n",
    "            lines = f.readlines()[4:] if exp_type == \"ONVM-nDPI-stats\" else f.readlines()\n",
    "            for i in range(len(lines)):\n",
    "                try:\n",
    "                    value = float(lines[i].strip()) / 1000\n",
    "                except ValueError:\n",
    "                    value= np.nan\n",
    "                tmp.append(value)\n",
    "    else:\n",
    "        with open(os.path.join(\"..\\\\data\", exp_type, exp_num, file)) as f:\n",
    "            next(f)\n",
    "            for l in f:\n",
    "                try:\n",
    "                    value = float(l.strip().split(\",\")[index])\n",
    "                except ValueError:\n",
    "                    value = np.nan\n",
    "                tmp.append(value)\n",
    "                \n",
    "    return tmp"
   ]
  },
  {
   "cell_type": "code",
   "execution_count": 6,
   "id": "e0838e55",
   "metadata": {},
   "outputs": [],
   "source": [
    "def parse_reg(exp_type, exp_num, file, stat_name):\n",
    "    stat = []\n",
    "    file_path = os.path.join(\"..\\\\data\", exp_type, exp_num, file)\n",
    "\n",
    "    with open(file_path, newline='') as csvfile:\n",
    "        reader = csv.reader(csvfile)\n",
    "        headers = next(reader)\n",
    "        try:\n",
    "            index = headers.index(stat_name)\n",
    "        except ValueError:\n",
    "            print(f\"Column {stat_name} not found\")\n",
    "            return stat\n",
    "        for row in reader:\n",
    "            if len(row) <= index: \n",
    "                continue  \n",
    "\n",
    "            raw_value = row[index]\n",
    "            try:\n",
    "                value = float(raw_value)\n",
    "            except ValueError:\n",
    "                value = raw_value\n",
    "            stat.append(value)\n",
    "\n",
    "\n",
    "    return stat"
   ]
  },
  {
   "cell_type": "code",
   "execution_count": 7,
   "id": "2069d7f7",
   "metadata": {},
   "outputs": [
    {
     "name": "stdout",
     "output_type": "stream",
     "text": [
      "299\n"
     ]
    }
   ],
   "source": [
    "bridge_L3MISS = parse_reg(\"ONVM-nDPI-stats\", exp_ls,  \"ndpi_stats-pcm_new.csv\", \"Socket 0-L3HIT\")\n",
    "print(len(bridge_L3MISS))"
   ]
  },
  {
   "cell_type": "code",
   "execution_count": 8,
   "id": "486f96ae",
   "metadata": {},
   "outputs": [
    {
     "name": "stdout",
     "output_type": "stream",
     "text": [
      "header： ['System-Date', 'System-Time', 'Socket 0-EXEC', 'Socket 0-IPC', 'Socket 0-FREQ', 'Socket 0-AFREQ', 'Socket 0-L3MISS', 'Socket 0-L2MISS', 'Socket 0-L3HIT', 'Socket 0-L2HIT', 'Socket 0-L3MPI', 'Socket 0-L2MPI', 'Socket 0-L3OCC', 'Socket 0-LMB', 'Socket 0-RMB', 'Socket 0-READ', 'Socket 0-WRITE', 'Socket 0-LOCAL', 'Socket 0-TEMP', 'Socket 0-INST', 'Socket 0-ACYC', 'Socket 0-TIME(ticks)', 'Socket 0-PhysIPC', 'Socket 0-PhysIPC%', 'Socket 0-INSTnom', 'Socket 0-INSTnom%', 'SKT0 Core C-State-C0res%', 'SKT0 Core C-State-C1res%', 'SKT0 Core C-State-C3res%', 'SKT0 Core C-State-C6res%', 'SKT0 Core C-State-C7res%', 'SKT0 Package C-State-C0res%', 'SKT0 Package C-State-C2res%', 'SKT0 Package C-State-C3res%', 'SKT0 Package C-State-C6res%', 'SKT0 Package C-State-C7res%', 'Proc Energy (Joules)-SKT0', 'DRAM Energy (Joules)-SKT0', 'LLCRDMISSLAT (ns)-SKT0', 'UncFREQ (Ghz)-SKT0', 'Core3 (Socket 0)-EXEC', 'Core3 (Socket 0)-IPC', 'Core3 (Socket 0)-FREQ', 'Core3 (Socket 0)-AFREQ', 'Core3 (Socket 0)-L3MISS', 'Core3 (Socket 0)-L2MISS', 'Core3 (Socket 0)-L3HIT', 'Core3 (Socket 0)-L2HIT', 'Core3 (Socket 0)-L3MPI', 'Core3 (Socket 0)-L2MPI', 'Core3 (Socket 0)-L3OCC', 'Core3 (Socket 0)-LMB', 'Core3 (Socket 0)-RMB', 'Core3 (Socket 0)-C0res%', 'Core3 (Socket 0)-C1res%', 'Core3 (Socket 0)-C3res%', 'Core3 (Socket 0)-C6res%', 'Core3 (Socket 0)-C7res%', 'Core3 (Socket 0)-TEMP', 'Core3 (Socket 0)-INST', 'Core3 (Socket 0)-ACYC', 'Core3 (Socket 0)-TIME(ticks)', 'Core3 (Socket 0)-PhysIPC', 'Core3 (Socket 0)-PhysIPC%', 'Core3 (Socket 0)-INSTnom', 'Core3 (Socket 0)-INSTnom%', '-']\n"
     ]
    }
   ],
   "source": [
    "features = print_headers(\"ONVM-nDPI-stats\", exp_ls,  \"ndpi_stats-pcm_new.csv\")"
   ]
  },
  {
   "cell_type": "code",
   "execution_count": 22,
   "id": "840e88ca",
   "metadata": {},
   "outputs": [
    {
     "name": "stdout",
     "output_type": "stream",
     "text": [
      "header： ['skt-0_PCIRdCur', 'skt-0_RFO', 'skt-0_CRd', 'skt-0_DRd', 'skt-0_ItoM', 'skt-0_PRd', 'skt-0_WiL', 'skt-1_PCIRdCur', 'skt-1_RFO', 'skt-1_CRd', 'skt-1_DRd', 'skt-1_ItoM', 'skt-1_PRd', 'skt-1_WiL']\n"
     ]
    }
   ],
   "source": [
    "features_pcie = print_headers(\"ONVM-nDPI-stats\", exp_ls,   \"pcm-pcie_new.csv\")"
   ]
  },
  {
   "cell_type": "code",
   "execution_count": 23,
   "id": "0b1fe281",
   "metadata": {},
   "outputs": [
    {
     "name": "stdout",
     "output_type": "stream",
     "text": [
      "header： ['SKT0-Ch0Read', 'SKT0-Ch0Write', 'SKT0-Ch1Read', 'SKT0-Ch1Write', 'SKT0-Ch2Read', 'SKT0-Ch2Write', 'SKT0-Ch3Read', 'SKT0-Ch3Write', 'SKT0-Mem Read (MB/s)', 'SKT0-Mem Write (MB/s)', 'SKT0-P. Write (T/s)', 'SKT0-Memory (MB/s)', 'System-Read', 'System-Write', 'System-Memory']\n"
     ]
    }
   ],
   "source": [
    "features_memory = print_headers(\"ONVM-nDPI-stats\", exp_ls, \"pcm-memory_new.csv\")"
   ]
  },
  {
   "cell_type": "code",
   "execution_count": 24,
   "id": "ad841f6e",
   "metadata": {},
   "outputs": [],
   "source": [
    "Infos=[\"ndpi_stats-pcm_new.csv\"]\n",
    "Infos_pcie = [\"pcm-pcie_new.csv\"]\n",
    "Infos_memory =[\"pcm-memory_new.csv\"]\n",
    "def make_df():\n",
    "    tmp = []\n",
    "    dic = dict()\n",
    "\n",
    "    seq_length = min(len(parse_reg(\"ONVM-nDPI-stats\", exp_ls, \"ndpi_stats-pcm_new.csv\", 'System-Date')), \n",
    "                     len(parse_reg(\"ONVM-nDPI-stats\", exp_ls, \"pcm-pcie_new.csv\", 'skt-0_PCIRdCur')))\n",
    "\n",
    "    for f in features:\n",
    "        for v in Infos:\n",
    "            tmp =parse_reg(\"ONVM-nDPI-stats\", exp_ls, \"ndpi_stats-pcm_new.csv\", f)\n",
    "            tmp = tmp[:seq_length]\n",
    "            if len(tmp) < seq_length:\n",
    "                tmp = np.pad(tmp, (0, seq_length - len(tmp)), mode='constant')\n",
    "            dic[v.split(\".\")[0] + \"_\" + f.replace(\",\", \"\")] = tmp\n",
    "            \n",
    "    for f in features_pcie:\n",
    "        for v in Infos_pcie:\n",
    "            tmp =parse_reg(\"ONVM-nDPI-stats\", exp_ls, \"pcm-pcie_new.csv\", f)\n",
    "            tmp = tmp[:seq_length]\n",
    "            if len(tmp) < seq_length:\n",
    "                tmp = np.pad(tmp, (0, seq_length - len(tmp)), mode='constant')\n",
    "            dic[v.split(\".\")[0] + \"_\" + f.replace(\",\", \"\")] = tmp \n",
    "    for f in features_memory:\n",
    "        for v in Infos_memory:\n",
    "            tmp =parse_reg(\"ONVM-nDPI-stats\", exp_ls, \"pcm-memory_new.csv\", f)\n",
    "            tmp = tmp[:seq_length]\n",
    "            if len(tmp) < seq_length:\n",
    "                tmp = np.pad(tmp, (0, seq_length - len(tmp)), mode='constant')\n",
    "            dic[v.split(\".\")[0] + \"_\" + f.replace(\",\", \"\")] = tmp \n",
    "    \n",
    "    return pd.DataFrame(dic)\n",
    "\n",
    "#bridge_L3MISS = parse_reg(\"fixed_rate\", exp_ls,  \"bridge-pcm.csv\", \"Socket 0-L3HIT\")\n",
    "#print(len(bridge_L3MISS))"
   ]
  },
  {
   "cell_type": "code",
   "execution_count": 25,
   "id": "efeb9943",
   "metadata": {
    "scrolled": true
   },
   "outputs": [],
   "source": [
    "df = make_df()\n"
   ]
  },
  {
   "cell_type": "code",
   "execution_count": 26,
   "id": "3b9de46a",
   "metadata": {},
   "outputs": [
    {
     "name": "stdout",
     "output_type": "stream",
     "text": [
      "    ndpi_stats-pcm_new_System-Date ndpi_stats-pcm_new_System-Time  \\\n",
      "0                       2023-11-28                   15:23:28.211   \n",
      "1                       2023-11-28                   15:23:29.211   \n",
      "2                       2023-11-28                   15:23:30.211   \n",
      "3                       2023-11-28                   15:23:31.211   \n",
      "4                       2023-11-28                   15:23:32.211   \n",
      "..                             ...                            ...   \n",
      "193                     2023-11-28                   15:26:41.222   \n",
      "194                     2023-11-28                   15:26:42.222   \n",
      "195                     2023-11-28                   15:26:43.222   \n",
      "196                     2023-11-28                   15:26:44.223   \n",
      "197                     2023-11-28                   15:26:45.223   \n",
      "\n",
      "     ndpi_stats-pcm_new_Socket 0-EXEC  ndpi_stats-pcm_new_Socket 0-IPC  \\\n",
      "0                                0.48                             2.43   \n",
      "1                                0.48                             2.43   \n",
      "2                                0.48                             2.43   \n",
      "3                                0.48                             2.43   \n",
      "4                                0.48                             2.43   \n",
      "..                                ...                              ...   \n",
      "193                              0.48                             2.41   \n",
      "194                              0.48                             2.42   \n",
      "195                              0.48                             2.41   \n",
      "196                              0.48                             2.42   \n",
      "197                              0.48                             2.41   \n",
      "\n",
      "     ndpi_stats-pcm_new_Socket 0-FREQ  ndpi_stats-pcm_new_Socket 0-AFREQ  \\\n",
      "0                                 0.2                               1.31   \n",
      "1                                 0.2                               1.31   \n",
      "2                                 0.2                               1.31   \n",
      "3                                 0.2                               1.31   \n",
      "4                                 0.2                               1.31   \n",
      "..                                ...                                ...   \n",
      "193                               0.2                               1.31   \n",
      "194                               0.2                               1.31   \n",
      "195                               0.2                               1.31   \n",
      "196                               0.2                               1.31   \n",
      "197                               0.2                               1.30   \n",
      "\n",
      "     ndpi_stats-pcm_new_Socket 0-L3MISS  ndpi_stats-pcm_new_Socket 0-L2MISS  \\\n",
      "0                                  0.07                               40.07   \n",
      "1                                  0.04                               39.85   \n",
      "2                                  0.03                               39.65   \n",
      "3                                  0.03                               40.04   \n",
      "4                                  0.03                               39.92   \n",
      "..                                  ...                                 ...   \n",
      "193                                0.03                               40.57   \n",
      "194                                0.03                               40.34   \n",
      "195                                0.03                               40.51   \n",
      "196                                0.03                               40.47   \n",
      "197                                0.19                               40.74   \n",
      "\n",
      "     ndpi_stats-pcm_new_Socket 0-L3HIT  ndpi_stats-pcm_new_Socket 0-L2HIT  \\\n",
      "0                                  1.0                               0.52   \n",
      "1                                  1.0                               0.52   \n",
      "2                                  1.0                               0.53   \n",
      "3                                  1.0                               0.52   \n",
      "4                                  1.0                               0.53   \n",
      "..                                 ...                                ...   \n",
      "193                                1.0                               0.52   \n",
      "194                                1.0                               0.52   \n",
      "195                                1.0                               0.52   \n",
      "196                                1.0                               0.52   \n",
      "197                                1.0                               0.52   \n",
      "\n",
      "     ...  pcm-memory_new_SKT0-Ch2Write  pcm-memory_new_SKT0-Ch3Read  \\\n",
      "0    ...                          4.49                         4.48   \n",
      "1    ...                          3.43                         3.59   \n",
      "2    ...                          2.99                         3.18   \n",
      "3    ...                          2.58                         2.75   \n",
      "4    ...                          2.50                         2.81   \n",
      "..   ...                           ...                          ...   \n",
      "193  ...                          0.72                         0.96   \n",
      "194  ...                          0.76                         1.00   \n",
      "195  ...                          0.73                         0.94   \n",
      "196  ...                          0.75                         0.94   \n",
      "197  ...                          0.79                         0.93   \n",
      "\n",
      "     pcm-memory_new_SKT0-Ch3Write  pcm-memory_new_SKT0-Mem Read (MB/s)  \\\n",
      "0                            4.32                                26.19   \n",
      "1                            3.50                                22.33   \n",
      "2                            3.04                                20.66   \n",
      "3                            2.60                                19.22   \n",
      "4                            2.53                                19.48   \n",
      "..                            ...                                  ...   \n",
      "193                          0.68                                12.09   \n",
      "194                          0.69                                12.39   \n",
      "195                          0.70                                12.02   \n",
      "196                          0.68                                12.13   \n",
      "197                          0.69                                12.15   \n",
      "\n",
      "     pcm-memory_new_SKT0-Mem Write (MB/s)  pcm-memory_new_SKT0-P. Write (T/s)  \\\n",
      "0                                   25.58                        4.125614e+09   \n",
      "1                                   22.03                        4.265343e+09   \n",
      "2                                   20.11                        4.268341e+09   \n",
      "3                                   18.65                        4.264206e+09   \n",
      "4                                   18.37                        4.263977e+09   \n",
      "..                                    ...                                 ...   \n",
      "193                                 10.99                        4.268584e+09   \n",
      "194                                 11.10                        4.263969e+09   \n",
      "195                                 11.05                        4.263967e+09   \n",
      "196                                 11.12                        4.268245e+09   \n",
      "197                                 11.20                        4.263969e+09   \n",
      "\n",
      "     pcm-memory_new_SKT0-Memory (MB/s)  pcm-memory_new_System-Read  \\\n",
      "0                                51.77                       26.19   \n",
      "1                                44.36                       22.33   \n",
      "2                                40.77                       20.66   \n",
      "3                                37.87                       19.22   \n",
      "4                                37.85                       19.48   \n",
      "..                                 ...                         ...   \n",
      "193                              23.08                       12.09   \n",
      "194                              23.49                       12.39   \n",
      "195                              23.07                       12.02   \n",
      "196                              23.25                       12.13   \n",
      "197                              23.35                       12.15   \n",
      "\n",
      "     pcm-memory_new_System-Write  pcm-memory_new_System-Memory  \n",
      "0                          25.58                         51.77  \n",
      "1                          22.03                         44.36  \n",
      "2                          20.11                         40.77  \n",
      "3                          18.65                         37.87  \n",
      "4                          18.37                         37.85  \n",
      "..                           ...                           ...  \n",
      "193                        10.99                         23.08  \n",
      "194                        11.10                         23.49  \n",
      "195                        11.05                         23.07  \n",
      "196                        11.12                         23.25  \n",
      "197                        11.20                         23.35  \n",
      "\n",
      "[198 rows x 96 columns]\n"
     ]
    }
   ],
   "source": [
    "print(df)"
   ]
  },
  {
   "cell_type": "code",
   "execution_count": 27,
   "id": "1333a439",
   "metadata": {},
   "outputs": [],
   "source": [
    "abs_path = os.path.join(\"..\\\\datasets\", \"ONVM-nDPI-stats_\"+ exp_ls +\".csv\")\n",
    "df.to_csv(abs_path, sep=',')\n"
   ]
  },
  {
   "cell_type": "code",
   "execution_count": 28,
   "id": "df4e75d7",
   "metadata": {},
   "outputs": [
    {
     "name": "stdout",
     "output_type": "stream",
     "text": [
      "0x1\n",
      "0x10\n",
      "0x10000\n",
      "0x2\n",
      "0x3\n",
      "0x6\n",
      "0xf\n",
      "0xfffff\n"
     ]
    }
   ],
   "source": [
    "for i in [1,10,10000,2,3,6,\"f\",\"fffff\"]:\n",
    "    exp_ls = f'0x{i}'\n",
    "    print(exp_ls)\n",
    "    df = make_df()\n",
    "    abs_path = os.path.join(\"..\\\\datasets\", \"ONVM-nDPI-stats_\"+ exp_ls +\".csv\")\n",
    "    df.to_csv(abs_path, sep=',')"
   ]
  }
 ],
 "metadata": {
  "kernelspec": {
   "display_name": "Python 3 (ipykernel)",
   "language": "python",
   "name": "python3"
  },
  "language_info": {
   "codemirror_mode": {
    "name": "ipython",
    "version": 3
   },
   "file_extension": ".py",
   "mimetype": "text/x-python",
   "name": "python",
   "nbconvert_exporter": "python",
   "pygments_lexer": "ipython3",
   "version": "3.10.9"
  }
 },
 "nbformat": 4,
 "nbformat_minor": 5
}
