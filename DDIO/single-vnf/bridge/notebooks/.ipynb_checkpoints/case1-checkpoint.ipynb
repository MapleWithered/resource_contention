{
 "cells": [
  {
   "cell_type": "code",
   "execution_count": 25,
   "id": "00f8f4e4",
   "metadata": {},
   "outputs": [],
   "source": [
    "# In this notebook, we explore the DMA buffer size impact by fixing the traffic input rate"
   ]
  },
  {
   "cell_type": "code",
   "execution_count": 1,
   "id": "036a8e1c",
   "metadata": {},
   "outputs": [],
   "source": [
    "import pandas as pd\n",
    "import numpy as np\n",
    "from sklearn.preprocessing import StandardScaler\n",
    "import matplotlib.pyplot as plt\n",
    "import causallearn\n",
    "\n",
    "from causallearn.utils.GraphUtils import GraphUtils\n",
    "import matplotlib.image as mpimg\n",
    "import io\n",
    "import os\n",
    "import matplotlib.cm as cm\n",
    "from sklearn.preprocessing import StandardScaler\n",
    "from sklearn.decomposition import PCA\n",
    "from matplotlib.colors import Normalize\n",
    "import matplotlib as mp"
   ]
  },
  {
   "cell_type": "code",
   "execution_count": 14,
   "id": "bb16a2f8",
   "metadata": {},
   "outputs": [],
   "source": [
    "# Dictionary to store the average values from each file\n",
    "\"\"\"\n",
    "directory = '..\\datasets'  # Replace with your directory path\n",
    "\n",
    "# Load the first CSV file to identify numeric columns\n",
    "sample_file = next((f for f in os.listdir(directory) if f.endswith('.csv')), None)\n",
    "if sample_file is None:\n",
    "    raise ValueError(\"No CSV files found in the directory\")\n",
    "\n",
    "# Load the sample file\n",
    "df_sample = pd.read_csv(os.path.join(directory, sample_file))\n",
    "\n",
    "# Select columns that are either int or float (and optionally bool)\n",
    "averageable_features = df_sample.select_dtypes(include=['int64', 'float64', 'bool']).columns.tolist()\n",
    "\n",
    "\n",
    "averages = {}\n",
    "\n",
    "# Processing each file in the directory\n",
    "for filename in os.listdir(directory):\n",
    "    if filename.endswith('.csv'):\n",
    "        # Construct the full file path\n",
    "        file_path = os.path.join(directory, filename)\n",
    "        df = pd.read_csv(file_path)\n",
    "        df_trimmed = df[20:-20]\n",
    "        # Calculate averages\n",
    "        avg_values = df[averageable_features].mean(numeric_only=True).to_dict()\n",
    "        averages[filename] = avg_values\n",
    "\n",
    "# Convert the dictionary to a DataFrame\n",
    "averages_df = pd.DataFrame(averages)\n",
    "averages_df = averages_df.T\n",
    "\n",
    "# Optionally, rename the index to clarify it represents file names\n",
    "averages_df.index.rename('File', inplace=True)\n",
    "if 'Unnamed: 0' in averages_df.columns:\n",
    "    averages_df.drop('Unnamed: 0', axis=1, inplace=True)\n",
    "# Save the new DataFrame to a CSV file in the same directory\n",
    "averages_df.to_csv(os.path.join(directory, 'averages_summary.csv'))\n",
    "\"\"\""
   ]
  },
  {
   "cell_type": "code",
   "execution_count": 15,
   "id": "aaaddc3d",
   "metadata": {},
   "outputs": [
    {
     "name": "stdout",
     "output_type": "stream",
     "text": [
      "MultiIndex([(                                'File', ...),\n",
      "            (                          'input_rate', ...),\n",
      "            (                         'output_rate', ...),\n",
      "            (                             'latency', ...),\n",
      "            (            'bridge-pcm_Socket 0-EXEC', ...),\n",
      "            (             'bridge-pcm_Socket 0-IPC', ...),\n",
      "            (            'bridge-pcm_Socket 0-FREQ', ...),\n",
      "            (           'bridge-pcm_Socket 0-AFREQ', ...),\n",
      "            (          'bridge-pcm_Socket 0-L3MISS', ...),\n",
      "            (          'bridge-pcm_Socket 0-L2MISS', ...),\n",
      "            ...\n",
      "            (        'pcm-memory_new_SKT1-Ch0Write', ...),\n",
      "            (         'pcm-memory_new_SKT1-Ch1Read', ...),\n",
      "            (        'pcm-memory_new_SKT1-Ch1Write', ...),\n",
      "            ( 'pcm-memory_new_SKT1-Mem Read (MB/s)', ...),\n",
      "            ('pcm-memory_new_SKT1-Mem Write (MB/s)', ...),\n",
      "            (  'pcm-memory_new_SKT1-P. Write (T/s)', ...),\n",
      "            (   'pcm-memory_new_SKT1-Memory (MB/s)', ...),\n",
      "            (          'pcm-memory_new_System-Read', ...),\n",
      "            (         'pcm-memory_new_System-Write', ...),\n",
      "            (        'pcm-memory_new_System-Memory', ...)],\n",
      "           length=153)\n"
     ]
    }
   ],
   "source": [
    "import pandas as pd\n",
    "\n",
    "# Path to your CSV file\n",
    "csv_file = '..\\\\datasets\\\\averages_summary.csv'\n",
    "\n",
    "# Read the CSV file\n",
    "df = pd.read_csv(csv_file, header=[0, 1])\n",
    "\n",
    "# Print the column structure\n",
    "print(df.columns)\n"
   ]
  },
  {
   "cell_type": "code",
   "execution_count": 37,
   "id": "3da1c29d",
   "metadata": {},
   "outputs": [
    {
     "name": "stdout",
     "output_type": "stream",
     "text": [
      "[6809.065063834612, 6921.192103366992, 6878.782214675805, 6877.643259795025]\n",
      "[6921.192103366992, 6877.643259795025, 6809.065063834612, 6878.782214675805]\n"
     ]
    },
    {
     "data": {
      "image/png": "[encoded data removed]",
      "text/plain": [
       "<Figure size 320x240 with 1 Axes>"
      ]
     },
     "metadata": {},
     "output_type": "display_data"
    }
   ],
   "source": [
    "import pandas as pd\n",
    "import matplotlib.pyplot as plt\n",
    "\n",
    "fig, ax = plt.subplots(facecolor='white', figsize=(4,3))\n",
    "#ax.set_facecolor('white')\n",
    "plt.style.use('classic')\n",
    "\n",
    "\n",
    "# Path to your CSV file\n",
    "csv_file = '..\\\\datasets\\\\averages_summary.csv'\n",
    "\n",
    "# Read the CSV file considering it has two header rows\n",
    "df = pd.read_csv(csv_file)\n",
    "\n",
    "row_headers = ['fixed_rate_64B-256.csv','fixed_rate_64B-512.csv','fixed_rate_64B-1024.csv','fixed_rate_64B-4096.csv']\n",
    "df_filtered = df[df[('File')].isin(row_headers)]\n",
    "\n",
    "X_LABEL = [2.56,5.12,10.24,40.96]\n",
    "input_rate = df_filtered['input_rate'].tolist()\n",
    "output_rate =df_filtered['output_rate'].tolist()\n",
    "\n",
    "print(input_rate)\n",
    "# Reorder the list\n",
    "new_order = [1, 3, 0, 2]\n",
    "input_rate = [input_rate[i] for i in new_order]\n",
    "output_rate = [output_rate[i] for i in new_order]\n",
    "\n",
    "print(input_rate)\n",
    "\n",
    "plt.plot(X_LABEL,[x / 1000 for x in input_rate], marker='x',markersize = 4, c='k',linestyle='-',linewidth=1, dashes=(5, 3),label='Input rate')  \n",
    "plt.plot(X_LABEL,[x / 1000 for x in output_rate], marker='o',markersize = 4, c='b',linestyle='-',linewidth=1, dashes=(5, 3),label = 'Throughput')  \n",
    "fig.text(0.5, 0, 'DMA buffer size', size='14', ha='center')\n",
    "fig.text(-0.005, 0.5, 'Throughput', size='14', va='center', rotation='vertical')\n",
    "plt.subplots_adjust(left=0.12, right=0.9, bottom=0.15, top=0.9, wspace=0.3, hspace=0.4)\n",
    "plt.grid()\n",
    "ax.set_facecolor('white')\n",
    "plt.legend(loc='lower right',fontsize=12)\n",
    "plt.show()"
   ]
  },
  {
   "cell_type": "code",
   "execution_count": 65,
   "id": "a73b8705",
   "metadata": {},
   "outputs": [
    {
     "data": {
      "image/png": "[encoded data removed]",
      "text/plain": [
       "<Figure size 560x240 with 1 Axes>"
      ]
     },
     "metadata": {},
     "output_type": "display_data"
    }
   ],
   "source": [
    "import matplotlib.pyplot as plt\n",
    "\n",
    "\n",
    "# X-axis labels for the bars\n",
    "\n",
    "x_labels = ['256', '512', '1024','4096']\n",
    "# Set the width of the bars\n",
    "bar_width = 0.15\n",
    "\n",
    "# Calculate the positions for the bars on the x-axis\n",
    "x_pos_scale = 0.7\n",
    "x_pos = [x * x_pos_scale for x in range(len(input_rate))]\n",
    "x_pos_input_rate = [x - bar_width/2 for x in x_pos]\n",
    "x_pos_output_rate = [x + bar_width/2 for x in x_pos]\n",
    "\n",
    "# Define custom colors for the bars\n",
    "color_input = 'lightblue'\n",
    "color_output = '#FFAAAA'\n",
    "\n",
    "# Create the figure and axis with adjusted margins\n",
    "fig, ax = plt.subplots(facecolor='white', figsize=(7, 3))\n",
    "plt.subplots_adjust(left=0.1, right=0.9, top=0.9, bottom=0.2)\n",
    "\n",
    "# Create the clustered bars\n",
    "ax.bar(x_pos_input_rate, [x/1000 for x in input_rate], width=bar_width, label='Input Rate', color=color_input)\n",
    "ax.bar(x_pos_output_rate, [x/1000 for x in output_rate], width=bar_width, label='Throughput', color=color_output, hatch='//', edgecolor=\"black\")\n",
    "\n",
    "# Set the x-axis ticks and labels\n",
    "ax.set_xticks(x_pos)\n",
    "ax.set_xticklabels(x_labels)\n",
    "\n",
    "# Set custom x-limits to reduce the distance from 0 to the first bar\n",
    "ax.set_xlim(x_pos[0] - bar_width-0.1, x_pos[-1] + bar_width+0.1)\n",
    "ax.set_ylim(0,10)\n",
    "# Set the labels and title\n",
    "ax.set_ylabel('rate (Gbps)')\n",
    "ax.set_xlabel('DMA buffer size')\n",
    "ax.set_title('pkt=64')\n",
    "# Add a legend\n",
    "ax.legend(loc=\"upper right\", fontsize=10)\n",
    "\n",
    "# Show the plot\n",
    "plt.show()"
   ]
  },
  {
   "cell_type": "code",
   "execution_count": null,
   "id": "fafffe1c",
   "metadata": {},
   "outputs": [],
   "source": []
  },
  {
   "cell_type": "code",
   "execution_count": null,
   "id": "de5f8996",
   "metadata": {},
   "outputs": [],
   "source": []
  }
 ],
 "metadata": {
  "kernelspec": {
   "display_name": "Python 3 (ipykernel)",
   "language": "python",
   "name": "python3"
  },
  "language_info": {
   "codemirror_mode": {
    "name": "ipython",
    "version": 3
   },
   "file_extension": ".py",
   "mimetype": "text/x-python",
   "name": "python",
   "nbconvert_exporter": "python",
   "pygments_lexer": "ipython3",
   "version": "3.10.9"
  }
 },
 "nbformat": 4,
 "nbformat_minor": 5
}
