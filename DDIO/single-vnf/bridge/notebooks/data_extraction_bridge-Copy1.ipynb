{
 "cells": [
  {
   "cell_type": "code",
   "execution_count": 1,
   "id": "9939eb58",
   "metadata": {},
   "outputs": [],
   "source": [
    "import pandas as pd\n",
    "import os, re\n",
    "import csv\n",
    "import numpy as np"
   ]
  },
  {
   "cell_type": "code",
   "execution_count": 2,
   "id": "55826968",
   "metadata": {},
   "outputs": [],
   "source": [
    "# Change the work directory to the parent\n",
    "try:\n",
    "    if chdir:\n",
    "        pass\n",
    "except:\n",
    "    current_dir = os.getcwd()\n",
    "    os.chdir(current_dir +\"/..\")\n",
    "    os.path.abspath(os.curdir)"
   ]
  },
  {
   "cell_type": "code",
   "execution_count": 3,
   "id": "3ea5ec29",
   "metadata": {},
   "outputs": [],
   "source": [
    "chdir = True"
   ]
  },
  {
   "cell_type": "code",
   "execution_count": 4,
   "id": "c2b78803",
   "metadata": {},
   "outputs": [],
   "source": [
    "import matplotlib.pyplot as plt\n",
    "%matplotlib inline\n",
    "\n",
    "plt.rc('font', family='serif')\n",
    "plt.rcParams.update({'font.size': 11})\n",
    "\n",
    "plt.rcParams['figure.dpi'] = 200\n",
    "plt.rcParams['savefig.dpi'] = 300"
   ]
  },
  {
   "cell_type": "code",
   "execution_count": 3,
   "id": "fa7dad89",
   "metadata": {},
   "outputs": [],
   "source": [
    "# Metadata for specific SFC configurations\n",
    "exp_ls = \"exp-3\"\n"
   ]
  },
  {
   "cell_type": "code",
   "execution_count": 4,
   "id": "46d1626e",
   "metadata": {},
   "outputs": [],
   "source": [
    "def print_headers(exp_type, exp_num, file):\n",
    "    file_path = os.path.join(\"..\\\\bridge\\\\data\", exp_type, exp_num, file)\n",
    "\n",
    "    with open(file_path, newline='') as csvfile:\n",
    "        reader = csv.reader(csvfile)\n",
    "        headers = next(reader)  \n",
    "        print(\"header：\", headers)\n",
    "    return headers\n",
    "\n",
    "\n",
    "#print_headers(\"fixed_rate\", exp_ls, \"bridge-pcm-new.csv\")\n"
   ]
  },
  {
   "cell_type": "code",
   "execution_count": 5,
   "id": "ca5059ab",
   "metadata": {},
   "outputs": [],
   "source": [
    "def parse_seq(exp_type, exp_num, file, index=5):\n",
    "    \"Parse sequential data, specialized for the TX/RX/Latency experiments\"\n",
    "    tmp = []\n",
    "    \n",
    "    if file.startswith(\"latency_new.csv\"):\n",
    "        with open(os.path.join(\"..\\\\bridge\\\\data\", exp_type, exp_num, file)) as f:\n",
    "            lines = f.readlines()[4:] if exp_type == \"random_input_rate\" else f.readlines()\n",
    "            for i in range(len(lines)):\n",
    "                try:\n",
    "                    value = float(lines[i].strip()) / 1000\n",
    "                except ValueError:\n",
    "                    value= np.nan\n",
    "                tmp.append(value)\n",
    "    else:\n",
    "        with open(os.path.join(\"..\\\\bridge\\\\data\", exp_type, exp_num, file)) as f:\n",
    "            next(f)\n",
    "            for l in f:\n",
    "                try:\n",
    "                    value = float(l.strip().split(\",\")[index])\n",
    "                except ValueError:\n",
    "                    value = np.nan\n",
    "                tmp.append(value)\n",
    "                \n",
    "    return tmp"
   ]
  },
  {
   "cell_type": "code",
   "execution_count": 6,
   "id": "e0838e55",
   "metadata": {},
   "outputs": [],
   "source": [
    "def parse_reg(exp_type, exp_num, file, stat_name):\n",
    "    stat = []\n",
    "    file_path = os.path.join(\"..\\\\bridge\\\\data\", exp_type, exp_num, file)\n",
    "\n",
    "    with open(file_path, newline='') as csvfile:\n",
    "        reader = csv.reader(csvfile)\n",
    "        headers = next(reader)\n",
    "        try:\n",
    "            index = headers.index(stat_name)\n",
    "        except ValueError:\n",
    "            print(f\"Column {stat_name} not found\")\n",
    "            return stat\n",
    "        for row in reader:\n",
    "            if len(row) <= index: \n",
    "                continue  \n",
    "\n",
    "            raw_value = row[index]\n",
    "            try:\n",
    "                value = float(raw_value)\n",
    "            except ValueError:\n",
    "                value = raw_value\n",
    "            stat.append(value)\n",
    "\n",
    "\n",
    "    return stat"
   ]
  },
  {
   "cell_type": "code",
   "execution_count": 7,
   "id": "f5677589",
   "metadata": {},
   "outputs": [
    {
     "data": {
      "text/plain": [
       "1531"
      ]
     },
     "execution_count": 7,
     "metadata": {},
     "output_type": "execute_result"
    }
   ],
   "source": [
    "latency = parse_seq(\"random_input_rate\", exp_ls, \"latency_new.csv\")\n",
    "len(latency)"
   ]
  },
  {
   "cell_type": "code",
   "execution_count": 8,
   "id": "2c67471b",
   "metadata": {},
   "outputs": [
    {
     "data": {
      "text/plain": [
       "1532"
      ]
     },
     "execution_count": 8,
     "metadata": {},
     "output_type": "execute_result"
    }
   ],
   "source": [
    "tx_stats = parse_seq(\"random_input_rate\", exp_ls,  \"tx_stats.csv\")\n",
    "len(tx_stats)"
   ]
  },
  {
   "cell_type": "code",
   "execution_count": 9,
   "id": "95fe69b7",
   "metadata": {},
   "outputs": [
    {
     "data": {
      "text/plain": [
       "1532"
      ]
     },
     "execution_count": 9,
     "metadata": {},
     "output_type": "execute_result"
    }
   ],
   "source": [
    "rx_stats = parse_seq(\"random_input_rate\", exp_ls,  \"rx_stats.csv\")\n",
    "len(rx_stats)"
   ]
  },
  {
   "cell_type": "code",
   "execution_count": 10,
   "id": "2069d7f7",
   "metadata": {},
   "outputs": [
    {
     "name": "stdout",
     "output_type": "stream",
     "text": [
      "4054\n"
     ]
    }
   ],
   "source": [
    "bridge_L3MISS = parse_reg(\"random_input_rate\", exp_ls,  \"bridge-pcm_new.csv\", \"Socket 0-L3HIT\")\n",
    "print(len(bridge_L3MISS))"
   ]
  },
  {
   "cell_type": "code",
   "execution_count": 11,
   "id": "486f96ae",
   "metadata": {},
   "outputs": [
    {
     "name": "stdout",
     "output_type": "stream",
     "text": [
      "header： ['System-Date', 'System-Time', 'Socket 0-EXEC', 'Socket 0-IPC', 'Socket 0-FREQ', 'Socket 0-AFREQ', 'Socket 0-L3MISS', 'Socket 0-L2MISS', 'Socket 0-L3HIT', 'Socket 0-L2HIT', 'Socket 0-L3MPI', 'Socket 0-L2MPI', 'Socket 0-L3OCC', 'Socket 0-READ', 'Socket 0-WRITE', 'Socket 0-LOCAL', 'Socket 0-TEMP', 'Socket 0-INST', 'Socket 0-ACYC', 'Socket 0-TIME(ticks)', 'Socket 0-PhysIPC', 'Socket 0-PhysIPC%', 'Socket 0-INSTnom', 'Socket 0-INSTnom%', 'Socket 1-EXEC', 'Socket 1-IPC', 'Socket 1-FREQ', 'Socket 1-AFREQ', 'Socket 1-L3MISS', 'Socket 1-L2MISS', 'Socket 1-L3HIT', 'Socket 1-L2HIT', 'Socket 1-L3MPI', 'Socket 1-L2MPI', 'Socket 1-L3OCC', 'Socket 1-READ', 'Socket 1-WRITE', 'Socket 1-LOCAL', 'Socket 1-TEMP', 'Socket 1-INST', 'Socket 1-ACYC', 'Socket 1-TIME(ticks)', 'Socket 1-PhysIPC', 'Socket 1-PhysIPC%', 'Socket 1-INSTnom', 'Socket 1-INSTnom%', 'SKT0 Core C-State-C0res%', 'SKT0 Core C-State-C1res%', 'SKT0 Core C-State-C3res%', 'SKT0 Core C-State-C6res%', 'SKT0 Core C-State-C7res%', 'SKT0 Package C-State-C0res%', 'SKT0 Package C-State-C2res%', 'SKT0 Package C-State-C3res%', 'SKT0 Package C-State-C6res%', 'SKT0 Package C-State-C7res%', 'SKT1 Core C-State-C0res%', 'SKT1 Core C-State-C1res%', 'SKT1 Core C-State-C3res%', 'SKT1 Core C-State-C6res%', 'SKT1 Core C-State-C7res%', 'SKT1 Package C-State-C0res%', 'SKT1 Package C-State-C2res%', 'SKT1 Package C-State-C3res%', 'SKT1 Package C-State-C6res%', 'SKT1 Package C-State-C7res%', 'Proc Energy (Joules)-SKT0', 'Proc Energy (Joules)-SKT1', 'DRAM Energy (Joules)-SKT0', 'DRAM Energy (Joules)-SKT1', 'LLCRDMISSLAT (ns)-SKT0', 'LLCRDMISSLAT (ns)-SKT1', 'UncFREQ (Ghz)-SKT0', 'UncFREQ (Ghz)-SKT1', 'Core4 (Socket 0)-EXEC', 'Core4 (Socket 0)-IPC', 'Core4 (Socket 0)-FREQ', 'Core4 (Socket 0)-AFREQ', 'Core4 (Socket 0)-L3MISS', 'Core4 (Socket 0)-L2MISS', 'Core4 (Socket 0)-L3HIT', 'Core4 (Socket 0)-L2HIT', 'Core4 (Socket 0)-L3MPI', 'Core4 (Socket 0)-L2MPI', 'Core4 (Socket 0)-L3OCC', 'Core4 (Socket 0)-C0res%', 'Core4 (Socket 0)-C1res%', 'Core4 (Socket 0)-C3res%', 'Core4 (Socket 0)-C6res%', 'Core4 (Socket 0)-C7res%', 'Core4 (Socket 0)-TEMP', 'Core4 (Socket 0)-INST', 'Core4 (Socket 0)-ACYC', 'Core4 (Socket 0)-TIME(ticks)', 'Core4 (Socket 0)-PhysIPC', 'Core4 (Socket 0)-PhysIPC%', 'Core4 (Socket 0)-INSTnom', 'Core4 (Socket 0)-INSTnom%', '-']\n"
     ]
    }
   ],
   "source": [
    "features = print_headers(\"random_input_rate\", exp_ls, \"bridge-pcm_new.csv\")"
   ]
  },
  {
   "cell_type": "code",
   "execution_count": 12,
   "id": "840e88ca",
   "metadata": {},
   "outputs": [
    {
     "name": "stdout",
     "output_type": "stream",
     "text": [
      "header： ['skt-0_PCIRdCur', 'skt-0_RFO', 'skt-0_CRd', 'skt-0_DRd', 'skt-0_ItoM', 'skt-0_PRd', 'skt-0_WiL', 'skt-1_PCIRdCur', 'skt-1_RFO', 'skt-1_CRd', 'skt-1_DRd', 'skt-1_ItoM', 'skt-1_PRd', 'skt-1_WiL']\n"
     ]
    }
   ],
   "source": [
    "features_pcie = print_headers(\"random_input_rate\", exp_ls, \"pcm-pcie_new.csv\")"
   ]
  },
  {
   "cell_type": "code",
   "execution_count": 13,
   "id": "0b1fe281",
   "metadata": {},
   "outputs": [
    {
     "name": "stdout",
     "output_type": "stream",
     "text": [
      "header： ['', '', 'SKT0', 'SKT0', 'SKT0', 'SKT0', 'SKT0', 'SKT0', 'SKT0', 'SKT0', 'SKT0', 'SKT0', 'SKT0', 'SKT0', 'SKT1', 'SKT1', 'SKT1', 'SKT1', 'SKT1', 'SKT1', 'SKT1', 'SKT1', 'SKT1', 'SKT1', 'SKT1', 'SKT1', 'System', 'System', 'System']\n"
     ]
    }
   ],
   "source": [
    "features_memory = print_headers(\"random_input_rate\", exp_ls, \"pcm-memory_new.csv\")"
   ]
  },
  {
   "cell_type": "code",
   "execution_count": 14,
   "id": "28962a40",
   "metadata": {},
   "outputs": [
    {
     "name": "stdout",
     "output_type": "stream",
     "text": [
      "exp-3\n"
     ]
    }
   ],
   "source": [
    "print(exp_ls)"
   ]
  },
  {
   "cell_type": "code",
   "execution_count": 15,
   "id": "ad841f6e",
   "metadata": {},
   "outputs": [],
   "source": [
    "Infos=[\"bridge-pcm_new.csv\"]\n",
    "Infos_nf_out = [\"nf_out.csv\"]\n",
    "Infos_pcie = [\"pcm-pcie_new.csv\"]\n",
    "Infos_memory =[\"pcm-memory_new.csv\"]\n",
    "\n",
    "def make_df():\n",
    "    tmp = []\n",
    "    dic = dict()\n",
    "\n",
    "    tx_stats = parse_seq(\"random_input_rate\", exp_ls, \"tx_stats.csv\")\n",
    "    rx_stats = parse_seq(\"random_input_rate\", exp_ls, \"rx_stats.csv\")\n",
    "    latency = parse_seq(\"random_input_rate\", exp_ls, \"latency_new.csv\")\n",
    "\n",
    "    seq_length = min(len(tx_stats), len(rx_stats), len(latency),\n",
    "                     len(parse_reg(\"random_input_rate\", exp_ls, \"bridge-pcm_new.csv\", 'System-Date')),\n",
    "                     )\n",
    "    dic[\"input_rate\"] = tx_stats[:seq_length]\n",
    "    dic[\"output_rate\"] = rx_stats[:seq_length]\n",
    "    dic[\"latency\"] = latency[:seq_length]\n",
    "\n",
    "    for f in features:\n",
    "        for v in Infos:\n",
    "            tmp =parse_reg(\"random_input_rate\", exp_ls, \"bridge-pcm_new.csv\", f)\n",
    "            tmp = tmp[:seq_length]\n",
    "            if len(tmp) < seq_length:\n",
    "                tmp = np.pad(tmp, (0, seq_length - len(tmp)), mode='constant')\n",
    "            dic[v.split(\".\")[0] + \"_\" + f.replace(\",\", \"\")] = tmp\n",
    " \n",
    " #   for f in features_nf_out:\n",
    "  #      for v in Infos_nf_out:\n",
    "   #         tmp =parse_reg(\"random_input_rate\", exp_ls, \"nf_out.csv\", f)\n",
    "    #        tmp = tmp[:seq_length]\n",
    "     #       if len(tmp) < seq_length:\n",
    "      #          tmp = np.pad(tmp, (0, seq_length - len(tmp)), mode='constant')\n",
    "       #     dic[v.split(\".\")[0] + \"_\" + f.replace(\",\", \"\")] = tmp \n",
    "            \n",
    "    for f in features_pcie:\n",
    "        for v in Infos_pcie:\n",
    "            tmp =parse_reg(\"random_input_rate\", exp_ls, \"pcm-pcie_new.csv\", f)\n",
    "            tmp = tmp[:seq_length]\n",
    "            if len(tmp) < seq_length:\n",
    "                tmp = np.pad(tmp, (0, seq_length - len(tmp)), mode='constant')\n",
    "            dic[v.split(\".\")[0] + \"_\" + f.replace(\",\", \"\")] = tmp \n",
    "    for f in features_memory:\n",
    "        for v in Infos_memory:\n",
    "            tmp =parse_reg(\"random_input_rate\", exp_ls, \"pcm-memory_new.csv\", f)\n",
    "            tmp = tmp[:seq_length]\n",
    "            if len(tmp) < seq_length:\n",
    "                tmp = np.pad(tmp, (0, seq_length - len(tmp)), mode='constant')\n",
    "            dic[v.split(\".\")[0] + \"_\" + f.replace(\",\", \"\")] = tmp \n",
    "    \n",
    "    return pd.DataFrame(dic)\n",
    "\n",
    "#bridge_L3MISS = parse_reg(\"fixed_rate\", exp_ls,  \"bridge-pcm.csv\", \"Socket 0-L3HIT\")\n",
    "#print(len(bridge_L3MISS))"
   ]
  },
  {
   "cell_type": "code",
   "execution_count": 16,
   "id": "efeb9943",
   "metadata": {
    "scrolled": true
   },
   "outputs": [],
   "source": [
    "df = make_df()\n"
   ]
  },
  {
   "cell_type": "code",
   "execution_count": 17,
   "id": "3b9de46a",
   "metadata": {},
   "outputs": [
    {
     "name": "stdout",
     "output_type": "stream",
     "text": [
      "       input_rate  output_rate    latency bridge-pcm_new_System-Date  \\\n",
      "0     2366.089166   280.028609      9.190                 2023-09-18   \n",
      "1     1408.870146  1538.404862      8.832                 2023-09-18   \n",
      "2     4094.870516  4324.364453      8.675                 2023-09-18   \n",
      "3     5097.150373  5097.118081      8.864                 2023-09-18   \n",
      "4     5097.086380  5097.117211      8.058                 2023-09-18   \n",
      "...           ...          ...        ...                        ...   \n",
      "1526  4980.842244  4980.838059      8.650                 2023-09-18   \n",
      "1527  4978.582914  4978.556555      8.794                 2023-09-18   \n",
      "1528  4602.370604  4516.395431     21.958                 2023-09-18   \n",
      "1529  4361.085122  4361.070886      8.336                 2023-09-18   \n",
      "1530  4361.051119  4361.078766  15000.000                 2023-09-18   \n",
      "\n",
      "     bridge-pcm_new_System-Time  bridge-pcm_new_Socket 0-EXEC  \\\n",
      "0                  11:58:12.998                          0.26   \n",
      "1                  11:58:13.998                          0.27   \n",
      "2                  11:58:14.998                          0.27   \n",
      "3                  11:58:15.998                          0.27   \n",
      "4                  11:58:16.998                          0.27   \n",
      "...                         ...                           ...   \n",
      "1526               12:23:39.264                          0.28   \n",
      "1527               12:23:40.264                          0.28   \n",
      "1528               12:23:41.264                          0.28   \n",
      "1529               12:23:42.264                          0.28   \n",
      "1530               12:23:43.265                          0.01   \n",
      "\n",
      "      bridge-pcm_new_Socket 0-IPC  bridge-pcm_new_Socket 0-FREQ  \\\n",
      "0                            2.52                          0.10   \n",
      "1                            2.84                          0.09   \n",
      "2                            2.87                          0.09   \n",
      "3                            2.83                          0.10   \n",
      "4                            2.88                          0.09   \n",
      "...                           ...                           ...   \n",
      "1526                         3.00                          0.09   \n",
      "1527                         3.00                          0.09   \n",
      "1528                         3.02                          0.09   \n",
      "1529                         3.00                          0.09   \n",
      "1530                         1.07                          0.01   \n",
      "\n",
      "      bridge-pcm_new_Socket 0-AFREQ  bridge-pcm_new_Socket 0-L3MISS  ...  \\\n",
      "0                              1.17                            0.38  ...   \n",
      "1                              1.18                            0.14  ...   \n",
      "2                              1.18                            0.10  ...   \n",
      "3                              1.18                            0.15  ...   \n",
      "4                              1.18                            0.09  ...   \n",
      "...                             ...                             ...  ...   \n",
      "1526                           1.18                            0.04  ...   \n",
      "1527                           1.18                            0.04  ...   \n",
      "1528                           1.18                            0.02  ...   \n",
      "1529                           1.18                            0.03  ...   \n",
      "1530                           0.94                            0.11  ...   \n",
      "\n",
      "      pcm-pcie_new_skt-1_RFO  pcm-pcie_new_skt-1_CRd  pcm-pcie_new_skt-1_DRd  \\\n",
      "0               1.576260e+16            3.940650e+16            3.940650e+16   \n",
      "1               1.182195e+16            3.940650e+16            3.940650e+16   \n",
      "2               1.576260e+16            3.940650e+16            3.940650e+16   \n",
      "3               1.182195e+16            3.940650e+16            3.940650e+16   \n",
      "4               1.182195e+16            3.940650e+16            3.940650e+16   \n",
      "...                      ...                     ...                     ...   \n",
      "1526            0.000000e+00            2.119544e+06            0.000000e+00   \n",
      "1527            0.000000e+00            2.112152e+06            0.000000e+00   \n",
      "1528            9.982000e+03            0.000000e+00            0.000000e+00   \n",
      "1529            0.000000e+00            2.259656e+06            0.000000e+00   \n",
      "1530            0.000000e+00            2.346652e+06            0.000000e+00   \n",
      "\n",
      "      pcm-pcie_new_skt-1_ItoM  pcm-pcie_new_skt-1_PRd  pcm-pcie_new_skt-1_WiL  \\\n",
      "0                    510678.0            3.940650e+15            1.182195e+16   \n",
      "1                    218134.0            3.940650e+15            1.182195e+16   \n",
      "2                    112280.0            3.940650e+15            1.182195e+16   \n",
      "3                     10080.0            3.940650e+15            1.182195e+16   \n",
      "4                      9800.0            3.940650e+15            1.182195e+16   \n",
      "...                       ...                     ...                     ...   \n",
      "1526                      0.0            0.000000e+00            0.000000e+00   \n",
      "1527                      0.0            0.000000e+00            0.000000e+00   \n",
      "1528                      0.0            0.000000e+00            0.000000e+00   \n",
      "1529                      0.0            0.000000e+00            0.000000e+00   \n",
      "1530                      0.0            0.000000e+00            0.000000e+00   \n",
      "\n",
      "      pcm-memory_new_  pcm-memory_new_SKT0  pcm-memory_new_SKT1  \\\n",
      "0                Date              Ch0Read              Ch0Read   \n",
      "1          2023-09-18                34.14               276.12   \n",
      "2          2023-09-18                24.27               259.16   \n",
      "3          2023-09-18                22.13               253.16   \n",
      "4          2023-09-18                25.62               247.95   \n",
      "...               ...                  ...                  ...   \n",
      "1526       2023-09-18                 9.49               261.61   \n",
      "1527       2023-09-18                 6.63               219.99   \n",
      "1528       2023-09-18                 7.38               216.63   \n",
      "1529       2023-09-18                 6.03               213.41   \n",
      "1530       2023-09-18                16.84               215.04   \n",
      "\n",
      "      pcm-memory_new_System  \n",
      "0                      Read  \n",
      "1                    724.78  \n",
      "2                    640.14  \n",
      "3                    616.51  \n",
      "4                    624.82  \n",
      "...                     ...  \n",
      "1526                 550.73  \n",
      "1527                 452.57  \n",
      "1528                 450.42  \n",
      "1529                 437.46  \n",
      "1530                 485.49  \n",
      "\n",
      "[1531 rows x 120 columns]\n"
     ]
    }
   ],
   "source": [
    "print(df)"
   ]
  },
  {
   "cell_type": "code",
   "execution_count": 18,
   "id": "05484e11",
   "metadata": {},
   "outputs": [
    {
     "data": {
      "text/plain": [
       "<Axes: >"
      ]
     },
     "execution_count": 18,
     "metadata": {},
     "output_type": "execute_result"
    },
    {
     "data": {
      "image/png": "[encoded data removed]",
      "text/plain": [
       "<Figure size 640x480 with 1 Axes>"
      ]
     },
     "metadata": {},
     "output_type": "display_data"
    }
   ],
   "source": [
    "df.iloc[:, :3].plot(logy=True)"
   ]
  },
  {
   "cell_type": "code",
   "execution_count": 21,
   "id": "1333a439",
   "metadata": {},
   "outputs": [],
   "source": [
    "abs_path = os.path.join(\"..\\\\bridge\\\\datasets\", \"random_rate_\"+ exp_ls +\".csv\")\n",
    "df.to_csv(abs_path, sep=',')\n"
   ]
  },
  {
   "cell_type": "code",
   "execution_count": 24,
   "id": "df4e75d7",
   "metadata": {},
   "outputs": [
    {
     "name": "stdout",
     "output_type": "stream",
     "text": [
      "exp-6\n",
      "exp-7\n",
      "exp-8\n",
      "exp-9\n",
      "exp-10\n",
      "exp-11\n"
     ]
    },
    {
     "ename": "FileNotFoundError",
     "evalue": "[Errno 2] No such file or directory: '..\\\\bridge\\\\data\\\\random_input_rate\\\\exp-11\\\\pcm-memory_new.csv'",
     "output_type": "error",
     "traceback": [
      "\u001b[1;31m---------------------------------------------------------------------------\u001b[0m",
      "\u001b[1;31mFileNotFoundError\u001b[0m                         Traceback (most recent call last)",
      "Cell \u001b[1;32mIn[24], line 4\u001b[0m\n\u001b[0;32m      2\u001b[0m exp_ls \u001b[38;5;241m=\u001b[39m \u001b[38;5;124mf\u001b[39m\u001b[38;5;124m'\u001b[39m\u001b[38;5;124mexp-\u001b[39m\u001b[38;5;132;01m{\u001b[39;00mi\u001b[38;5;132;01m}\u001b[39;00m\u001b[38;5;124m'\u001b[39m\n\u001b[0;32m      3\u001b[0m \u001b[38;5;28mprint\u001b[39m(exp_ls)\n\u001b[1;32m----> 4\u001b[0m df \u001b[38;5;241m=\u001b[39m \u001b[43mmake_df\u001b[49m\u001b[43m(\u001b[49m\u001b[43m)\u001b[49m\n\u001b[0;32m      5\u001b[0m abs_path \u001b[38;5;241m=\u001b[39m os\u001b[38;5;241m.\u001b[39mpath\u001b[38;5;241m.\u001b[39mjoin(\u001b[38;5;124m\"\u001b[39m\u001b[38;5;124m..\u001b[39m\u001b[38;5;130;01m\\\\\u001b[39;00m\u001b[38;5;124mbridge\u001b[39m\u001b[38;5;130;01m\\\\\u001b[39;00m\u001b[38;5;124mdatasets\u001b[39m\u001b[38;5;124m\"\u001b[39m, \u001b[38;5;124m\"\u001b[39m\u001b[38;5;124mrandom_rate_\u001b[39m\u001b[38;5;124m\"\u001b[39m\u001b[38;5;241m+\u001b[39m exp_ls \u001b[38;5;241m+\u001b[39m\u001b[38;5;124m\"\u001b[39m\u001b[38;5;124m.csv\u001b[39m\u001b[38;5;124m\"\u001b[39m)\n\u001b[0;32m      6\u001b[0m df\u001b[38;5;241m.\u001b[39mto_csv(abs_path, sep\u001b[38;5;241m=\u001b[39m\u001b[38;5;124m'\u001b[39m\u001b[38;5;124m,\u001b[39m\u001b[38;5;124m'\u001b[39m)\n",
      "Cell \u001b[1;32mIn[15], line 46\u001b[0m, in \u001b[0;36mmake_df\u001b[1;34m()\u001b[0m\n\u001b[0;32m     44\u001b[0m \u001b[38;5;28;01mfor\u001b[39;00m f \u001b[38;5;129;01min\u001b[39;00m features_memory:\n\u001b[0;32m     45\u001b[0m     \u001b[38;5;28;01mfor\u001b[39;00m v \u001b[38;5;129;01min\u001b[39;00m Infos_memory:\n\u001b[1;32m---> 46\u001b[0m         tmp \u001b[38;5;241m=\u001b[39m\u001b[43mparse_reg\u001b[49m\u001b[43m(\u001b[49m\u001b[38;5;124;43m\"\u001b[39;49m\u001b[38;5;124;43mrandom_input_rate\u001b[39;49m\u001b[38;5;124;43m\"\u001b[39;49m\u001b[43m,\u001b[49m\u001b[43m \u001b[49m\u001b[43mexp_ls\u001b[49m\u001b[43m,\u001b[49m\u001b[43m \u001b[49m\u001b[38;5;124;43m\"\u001b[39;49m\u001b[38;5;124;43mpcm-memory_new.csv\u001b[39;49m\u001b[38;5;124;43m\"\u001b[39;49m\u001b[43m,\u001b[49m\u001b[43m \u001b[49m\u001b[43mf\u001b[49m\u001b[43m)\u001b[49m\n\u001b[0;32m     47\u001b[0m         tmp \u001b[38;5;241m=\u001b[39m tmp[:seq_length]\n\u001b[0;32m     48\u001b[0m         \u001b[38;5;28;01mif\u001b[39;00m \u001b[38;5;28mlen\u001b[39m(tmp) \u001b[38;5;241m<\u001b[39m seq_length:\n",
      "Cell \u001b[1;32mIn[6], line 5\u001b[0m, in \u001b[0;36mparse_reg\u001b[1;34m(exp_type, exp_num, file, stat_name)\u001b[0m\n\u001b[0;32m      2\u001b[0m stat \u001b[38;5;241m=\u001b[39m []\n\u001b[0;32m      3\u001b[0m file_path \u001b[38;5;241m=\u001b[39m os\u001b[38;5;241m.\u001b[39mpath\u001b[38;5;241m.\u001b[39mjoin(\u001b[38;5;124m\"\u001b[39m\u001b[38;5;124m..\u001b[39m\u001b[38;5;130;01m\\\\\u001b[39;00m\u001b[38;5;124mbridge\u001b[39m\u001b[38;5;130;01m\\\\\u001b[39;00m\u001b[38;5;124mdata\u001b[39m\u001b[38;5;124m\"\u001b[39m, exp_type, exp_num, file)\n\u001b[1;32m----> 5\u001b[0m \u001b[38;5;28;01mwith\u001b[39;00m \u001b[38;5;28;43mopen\u001b[39;49m\u001b[43m(\u001b[49m\u001b[43mfile_path\u001b[49m\u001b[43m,\u001b[49m\u001b[43m \u001b[49m\u001b[43mnewline\u001b[49m\u001b[38;5;241;43m=\u001b[39;49m\u001b[38;5;124;43m'\u001b[39;49m\u001b[38;5;124;43m'\u001b[39;49m\u001b[43m)\u001b[49m \u001b[38;5;28;01mas\u001b[39;00m csvfile:\n\u001b[0;32m      6\u001b[0m     reader \u001b[38;5;241m=\u001b[39m csv\u001b[38;5;241m.\u001b[39mreader(csvfile)\n\u001b[0;32m      7\u001b[0m     headers \u001b[38;5;241m=\u001b[39m \u001b[38;5;28mnext\u001b[39m(reader)\n",
      "File \u001b[1;32m~\\AppData\\Local\\Programs\\Python\\Python310\\lib\\site-packages\\IPython\\core\\interactiveshell.py:282\u001b[0m, in \u001b[0;36m_modified_open\u001b[1;34m(file, *args, **kwargs)\u001b[0m\n\u001b[0;32m    275\u001b[0m \u001b[38;5;28;01mif\u001b[39;00m file \u001b[38;5;129;01min\u001b[39;00m {\u001b[38;5;241m0\u001b[39m, \u001b[38;5;241m1\u001b[39m, \u001b[38;5;241m2\u001b[39m}:\n\u001b[0;32m    276\u001b[0m     \u001b[38;5;28;01mraise\u001b[39;00m \u001b[38;5;167;01mValueError\u001b[39;00m(\n\u001b[0;32m    277\u001b[0m         \u001b[38;5;124mf\u001b[39m\u001b[38;5;124m\"\u001b[39m\u001b[38;5;124mIPython won\u001b[39m\u001b[38;5;124m'\u001b[39m\u001b[38;5;124mt let you open fd=\u001b[39m\u001b[38;5;132;01m{\u001b[39;00mfile\u001b[38;5;132;01m}\u001b[39;00m\u001b[38;5;124m by default \u001b[39m\u001b[38;5;124m\"\u001b[39m\n\u001b[0;32m    278\u001b[0m         \u001b[38;5;124m\"\u001b[39m\u001b[38;5;124mas it is likely to crash IPython. If you know what you are doing, \u001b[39m\u001b[38;5;124m\"\u001b[39m\n\u001b[0;32m    279\u001b[0m         \u001b[38;5;124m\"\u001b[39m\u001b[38;5;124myou can use builtins\u001b[39m\u001b[38;5;124m'\u001b[39m\u001b[38;5;124m open.\u001b[39m\u001b[38;5;124m\"\u001b[39m\n\u001b[0;32m    280\u001b[0m     )\n\u001b[1;32m--> 282\u001b[0m \u001b[38;5;28;01mreturn\u001b[39;00m io_open(file, \u001b[38;5;241m*\u001b[39margs, \u001b[38;5;241m*\u001b[39m\u001b[38;5;241m*\u001b[39mkwargs)\n",
      "\u001b[1;31mFileNotFoundError\u001b[0m: [Errno 2] No such file or directory: '..\\\\bridge\\\\data\\\\random_input_rate\\\\exp-11\\\\pcm-memory_new.csv'"
     ]
    }
   ],
   "source": [
    "for i in range(6,12):\n",
    "    exp_ls = f'exp-{i}'\n",
    "    print(exp_ls)\n",
    "    df = make_df()\n",
    "    abs_path = os.path.join(\"..\\\\bridge\\\\datasets\", \"random_rate_\"+ exp_ls +\".csv\")\n",
    "    df.to_csv(abs_path, sep=',')"
   ]
  },
  {
   "cell_type": "code",
   "execution_count": null,
   "id": "24e3b85f",
   "metadata": {},
   "outputs": [],
   "source": []
  }
 ],
 "metadata": {
  "kernelspec": {
   "display_name": "Python 3 (ipykernel)",
   "language": "python",
   "name": "python3"
  },
  "language_info": {
   "codemirror_mode": {
    "name": "ipython",
    "version": 3
   },
   "file_extension": ".py",
   "mimetype": "text/x-python",
   "name": "python",
   "nbconvert_exporter": "python",
   "pygments_lexer": "ipython3",
   "version": "3.10.9"
  }
 },
 "nbformat": 4,
 "nbformat_minor": 5
}
