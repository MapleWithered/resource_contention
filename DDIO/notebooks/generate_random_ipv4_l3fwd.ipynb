{
 "cells": [
  {
   "cell_type": "code",
   "execution_count": 1,
   "id": "382a56d2",
   "metadata": {},
   "outputs": [
    {
     "name": "stdout",
     "output_type": "stream",
     "text": [
      "R198.18.0.0/24 0\n",
      "R198.18.1.0/24 1\n",
      "R198.18.2.0/24 2\n",
      "R198.18.3.0/24 3\n",
      "R198.18.4.0/24 4\n",
      "R198.18.5.0/24 5\n",
      "R198.18.6.0/24 6\n",
      "R198.18.7.0/24 7\n",
      "R198.18.8.0/24 8\n",
      "R198.18.9.0/24 9\n",
      "R198.18.10.0/24 10\n",
      "R198.18.11.0/24 11\n",
      "R198.18.12.0/24 12\n",
      "R198.18.13.0/24 13\n",
      "R198.18.14.0/24 14\n",
      "R198.18.15.0/24 15\n"
     ]
    }
   ],
   "source": [
    "import random\n",
    "\n",
    "# Define the base of the IPv4 address\n",
    "base_ip = \"198.18.\"\n",
    "\n",
    "# Define how many IPv4 addresses to generate\n",
    "num_addresses = 16\n",
    "\n",
    "# Generate and print the random IPv4 addresses with their routes\n",
    "for i in range(num_addresses):\n",
    "    # Generate the third octet (0 to 15)\n",
    "    third_octet = i\n",
    "    # Construct the full IP address\n",
    "    ip_address = f\"R{base_ip}{third_octet}.0/24 {i}\"\n",
    "    print(ip_address)\n"
   ]
  },
  {
   "cell_type": "code",
   "execution_count": 13,
   "id": "6c903055",
   "metadata": {
    "scrolled": false
   },
   "outputs": [
    {
     "name": "stdout",
     "output_type": "stream",
     "text": [
      "R197.93.52.0/24 100\n",
      "R16.134.103.0/24 167\n",
      "R114.159.251.0/24 93\n",
      "R51.246.88.0/24 143\n",
      "R202.250.199.0/24 30\n"
     ]
    }
   ],
   "source": [
    "import random\n",
    "\n",
    "# Generate and print the random IPv4 addresses with their routes\n",
    "for i in range(5):\n",
    "    # Generate the second, third and fourth octets\n",
    "    second_octet = random.randint(0, 255)\n",
    "    third_octet = random.randint(0, 255)\n",
    "    fourth_octet = random.randint(0, 255)\n",
    "    cinq_octet = random.randint(0,255)\n",
    "    \n",
    "    # Ensure the second octet is not 192\n",
    "    while second_octet == 192:\n",
    "        second_octet = random.randint(0, 255)\n",
    "    \n",
    "    # Construct the full IP address\n",
    "    ip_address = f\"R{second_octet}.{third_octet}.{fourth_octet}.0/24 {cinq_octet}\"\n",
    "    print(ip_address)"
   ]
  },
  {
   "cell_type": "code",
   "execution_count": 14,
   "id": "c3e4bbb7",
   "metadata": {},
   "outputs": [
    {
     "name": "stdout",
     "output_type": "stream",
     "text": [
      "R2001:200:0:56e0::/64 0\n",
      "R2001:200:0:7d62::/64 1\n",
      "R2001:200:0:2830::/64 2\n",
      "R2001:200:0:c06::/64 3\n",
      "R2001:200:0:232d::/64 4\n",
      "R2001:200:0:4f21::/64 5\n",
      "R2001:200:0:1519::/64 6\n",
      "R2001:200:0:9939::/64 7\n",
      "R2001:200:0:5849::/64 8\n",
      "R2001:200:0:ef18::/64 9\n",
      "R2001:200:0:c47a::/64 10\n",
      "R2001:200:0:45b4::/64 11\n",
      "R2001:200:0:fd11::/64 12\n",
      "R2001:200:0:917c::/64 13\n",
      "R2001:200:0:f8b4::/64 14\n",
      "R2001:200:0:6f20::/64 15\n"
     ]
    }
   ],
   "source": [
    "import random\n",
    "import ipaddress\n",
    "\n",
    "# Function to generate random IPv6 addresses\n",
    "def generate_random_ipv6_subnet(base_subnet, count):\n",
    "    base_network = ipaddress.IPv6Network(base_subnet)\n",
    "    base_address_int = int(base_network.network_address)\n",
    "    subnets = []\n",
    "\n",
    "    for i in range(count):\n",
    "        # Generate a random 16-bit number and add it to the base address\n",
    "        random_part = random.getrandbits(16)\n",
    "        new_address_int = base_address_int + (random_part << 64)\n",
    "        new_address = ipaddress.IPv6Address(new_address_int)\n",
    "        # Format the new address with the subnet prefix length\n",
    "        subnet = f\"R{new_address}/{base_network.prefixlen} {i}\"\n",
    "        subnets.append(subnet)\n",
    "\n",
    "    return subnets\n",
    "\n",
    "# Generate 16 random IPv6 subnets based on the given pattern\n",
    "base_subnet = '2001:0200::/64'\n",
    "subnets = generate_random_ipv6_subnet(base_subnet, 16)\n",
    "\n",
    "# Print the generated subnets\n",
    "for subnet in subnets:\n",
    "    print(subnet)\n"
   ]
  },
  {
   "cell_type": "code",
   "execution_count": null,
   "id": "0c9b8c98",
   "metadata": {},
   "outputs": [],
   "source": []
  }
 ],
 "metadata": {
  "kernelspec": {
   "display_name": "Python 3 (ipykernel)",
   "language": "python",
   "name": "python3"
  },
  "language_info": {
   "codemirror_mode": {
    "name": "ipython",
    "version": 3
   },
   "file_extension": ".py",
   "mimetype": "text/x-python",
   "name": "python",
   "nbconvert_exporter": "python",
   "pygments_lexer": "ipython3",
   "version": "3.10.9"
  }
 },
 "nbformat": 4,
 "nbformat_minor": 5
}
